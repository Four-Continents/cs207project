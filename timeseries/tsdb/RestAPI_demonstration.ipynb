{
 "cells": [
  {
   "cell_type": "code",
   "execution_count": 34,
   "metadata": {
    "collapsed": false
   },
   "outputs": [],
   "source": [
    "import requests\n",
    "import json\n",
    "import io\n",
    "import numpy as np\n",
    "import re"
   ]
  },
  {
   "cell_type": "markdown",
   "metadata": {},
   "source": [
    "## Insert data"
   ]
  },
  {
   "cell_type": "code",
   "execution_count": 39,
   "metadata": {
    "collapsed": true
   },
   "outputs": [],
   "source": [
    "ts1 = '{\"1\": {\"ts\": {\"times\": [1, 2, 3], \"values\": [2, 4, 9]}}}'\n",
    "ts2 = '{\"2\": {\"ts\": {\"times\": [1, 2, 3], \"values\": [1, 5, 10]}}}'"
   ]
  },
  {
   "cell_type": "code",
   "execution_count": 40,
   "metadata": {
    "collapsed": false
   },
   "outputs": [],
   "source": [
    "r = requests.post('http://127.0.0.1:5000/insert', json = ts1)\n",
    "r = requests.post('http://127.0.0.1:5000/insert', json = ts2)"
   ]
  },
  {
   "cell_type": "markdown",
   "metadata": {},
   "source": [
    "## Request data"
   ]
  },
  {
   "cell_type": "code",
   "execution_count": 41,
   "metadata": {
    "collapsed": false
   },
   "outputs": [],
   "source": [
    "r = requests.get('http://127.0.0.1:5000/select', auth=('user', 'pass'))"
   ]
  },
  {
   "cell_type": "code",
   "execution_count": 42,
   "metadata": {
    "collapsed": false
   },
   "outputs": [
    {
     "name": "stdout",
     "output_type": "stream",
     "text": [
      "{\n",
      "    \"1\": {},\n",
      "    \"2\": {}\n",
      "}\n"
     ]
    }
   ],
   "source": [
    "print(r.text)"
   ]
  },
  {
   "cell_type": "code",
   "execution_count": 43,
   "metadata": {
    "collapsed": false
   },
   "outputs": [
    {
     "name": "stdout",
     "output_type": "stream",
     "text": [
      "{\n",
      "    \"1\": {\n",
      "        \"ts\": {\n",
      "            \"values\": [\n",
      "                2,\n",
      "                4,\n",
      "                9\n",
      "            ],\n",
      "            \"times\": [\n",
      "                1,\n",
      "                2,\n",
      "                3\n",
      "            ]\n",
      "        }\n",
      "    },\n",
      "    \"2\": {\n",
      "        \"ts\": {\n",
      "            \"values\": [\n",
      "                1,\n",
      "                5,\n",
      "                10\n",
      "            ],\n",
      "            \"times\": [\n",
      "                1,\n",
      "                2,\n",
      "                3\n",
      "            ]\n",
      "        }\n",
      "    }\n",
      "}\n"
     ]
    }
   ],
   "source": [
    "r = requests.get('http://127.0.0.1:5000/select?fields=ts', auth=('user', 'pass'))\n",
    "print(r.text)"
   ]
  },
  {
   "cell_type": "markdown",
   "metadata": {},
   "source": [
    "## Insert meta"
   ]
  },
  {
   "cell_type": "code",
   "execution_count": 49,
   "metadata": {
    "collapsed": false
   },
   "outputs": [],
   "source": [
    "r = requests.post('http://127.0.0.1:5000/upsert_meta', json = '{\"1\": {\"blarg\": 1, \"order\": 1}}')\n",
    "r = requests.post('http://127.0.0.1:5000/upsert_meta', json = '{\"2\": {\"blarg\": 2, \"order\": 2}}')"
   ]
  },
  {
   "cell_type": "code",
   "execution_count": 50,
   "metadata": {
    "collapsed": false
   },
   "outputs": [
    {
     "name": "stdout",
     "output_type": "stream",
     "text": [
      "<pre>{\n",
      "    \"1\": {\n",
      "        \"order\": 1\n",
      "    },\n",
      "    \"2\": {\n",
      "        \"order\": 2\n",
      "    }\n",
      "}</pre>\n"
     ]
    }
   ],
   "source": [
    "r = requests.get('http://127.0.0.1:5000/select?fields=order', auth=('user', 'pass'))\n",
    "print(r.text)"
   ]
  },
  {
   "cell_type": "markdown",
   "metadata": {},
   "source": [
    "## Sort by order"
   ]
  },
  {
   "cell_type": "code",
   "execution_count": 66,
   "metadata": {
    "collapsed": false
   },
   "outputs": [
    {
     "name": "stdout",
     "output_type": "stream",
     "text": [
      "<pre>{\n",
      "    \"2\": {},\n",
      "    \"1\": {}\n",
      "}</pre>\n"
     ]
    }
   ],
   "source": [
    "r = requests.get('http://127.0.0.1:5000/select?additional=sort_by,%2Dorder', auth=('user', 'pass'))\n",
    "print(r.text)"
   ]
  },
  {
   "cell_type": "code",
   "execution_count": 67,
   "metadata": {
    "collapsed": false
   },
   "outputs": [
    {
     "name": "stdout",
     "output_type": "stream",
     "text": [
      "<pre>{\n",
      "    \"1\": {}\n",
      "}</pre>\n"
     ]
    }
   ],
   "source": [
    "r = requests.get('http://127.0.0.1:5000/select?additional=sort_by,%2Border,limit,1', auth=('user', 'pass'))\n",
    "print(r.text)"
   ]
  },
  {
   "cell_type": "markdown",
   "metadata": {},
   "source": [
    "## Filter by meta"
   ]
  },
  {
   "cell_type": "code",
   "execution_count": 106,
   "metadata": {
    "collapsed": false
   },
   "outputs": [
    {
     "name": "stdout",
     "output_type": "stream",
     "text": [
      "<pre>{\n",
      "    \"1\": {}\n",
      "}</pre>\n"
     ]
    }
   ],
   "source": [
    "r = requests.get('http://127.0.0.1:5000/select?md=blarg,<2', auth=('user', 'pass'))\n",
    "# {'blarg': {'<=': 2}}\n",
    "print(r.text)"
   ]
  },
  {
   "cell_type": "markdown",
   "metadata": {},
   "source": [
    "## Select augmented"
   ]
  },
  {
   "cell_type": "code",
   "execution_count": 107,
   "metadata": {
    "collapsed": false
   },
   "outputs": [
    {
     "data": {
      "text/plain": [
       "'{\"target\": [\"damean\", \"dastd\"], \"md\": {\"blarg\": {\">=\": 1}}, \"additional\": {\"limit\": 2, \"sort_by\": \"+order\"}, \"proc\": \"stats\"}'"
      ]
     },
     "execution_count": 107,
     "metadata": {},
     "output_type": "execute_result"
    }
   ],
   "source": [
    "augmented = {'md': {\"blarg\": {'>=': 1}},'proc':'stats','target':['damean','dastd'], 'additional':{\"sort_by\": \"+order\", \"limit\": 2}}\n",
    "augemented_json = io.StringIO()\n",
    "json.dump(augmented, fp=augemented_json)\n",
    "augmented_data = augemented_json.getvalue()\n",
    "augmented_data"
   ]
  },
  {
   "cell_type": "code",
   "execution_count": 109,
   "metadata": {
    "collapsed": false,
    "scrolled": false
   },
   "outputs": [
    {
     "name": "stdout",
     "output_type": "stream",
     "text": [
      "{\n",
      "    \"2\": {\n",
      "        \"dastd\": 3.6817870057290873,\n",
      "        \"damean\": 5.333333333333333\n",
      "    },\n",
      "    \"1\": {\n",
      "        \"dastd\": 2.943920288775949,\n",
      "        \"damean\": 5.0\n",
      "    }\n",
      "}\n"
     ]
    }
   ],
   "source": [
    "r = requests.post('http://127.0.0.1:5000/augmented_select', json = augmented_data)\n",
    "# print (r.text)\n",
    "print(r.text)"
   ]
  },
  {
   "cell_type": "markdown",
   "metadata": {},
   "source": [
    "## Delete ts"
   ]
  },
  {
   "cell_type": "code",
   "execution_count": 114,
   "metadata": {
    "collapsed": false
   },
   "outputs": [
    {
     "data": {
      "text/plain": [
       "<Response [200]>"
      ]
     },
     "execution_count": 114,
     "metadata": {},
     "output_type": "execute_result"
    }
   ],
   "source": [
    "requests.post('http://127.0.0.1:5000/delete', json = '1')"
   ]
  },
  {
   "cell_type": "code",
   "execution_count": 111,
   "metadata": {
    "collapsed": false
   },
   "outputs": [],
   "source": [
    "r = requests.get('http://127.0.0.1:5000/select', auth=('user', 'pass'))"
   ]
  },
  {
   "cell_type": "code",
   "execution_count": 113,
   "metadata": {
    "collapsed": false
   },
   "outputs": [
    {
     "name": "stdout",
     "output_type": "stream",
     "text": [
      "<pre>{\n",
      "    \"2\": {}\n",
      "}</pre>\n"
     ]
    }
   ],
   "source": [
    "print(r.text)"
   ]
  },
  {
   "cell_type": "code",
   "execution_count": null,
   "metadata": {
    "collapsed": true
   },
   "outputs": [],
   "source": [
    "requests.post('http://127.0.0.1:5000/delete', json = '2')"
   ]
  },
  {
   "cell_type": "markdown",
   "metadata": {},
   "source": [
    "## Find similar"
   ]
  },
  {
   "cell_type": "code",
   "execution_count": 115,
   "metadata": {
    "collapsed": false
   },
   "outputs": [],
   "source": [
    "values = np.random.randint(1,100,100)\n",
    "times = np.arange(1,101)\n",
    "k_nearest = 3"
   ]
  },
  {
   "cell_type": "code",
   "execution_count": 116,
   "metadata": {
    "collapsed": false
   },
   "outputs": [
    {
     "data": {
      "text/plain": [
       "'{\"k_nearest\": 3, \"values\": [97, 29, 75, 11, 81, 75, 14, 17, 12, 47, 34, 50, 76, 38, 25, 98, 32, 25, 92, 63, 3, 52, 27, 50, 54, 48, 86, 35, 11, 63, 11, 70, 29, 97, 59, 23, 94, 84, 21, 61, 91, 30, 21, 35, 17, 34, 1, 49, 66, 92, 88, 61, 70, 57, 83, 35, 91, 45, 63, 15, 85, 11, 36, 33, 58, 2, 49, 25, 27, 93, 55, 86, 78, 45, 53, 87, 15, 51, 78, 41, 1, 22, 41, 45, 58, 79, 26, 81, 20, 27, 97, 12, 8, 27, 61, 52, 80, 77, 84, 62], \"times\": [1, 2, 3, 4, 5, 6, 7, 8, 9, 10, 11, 12, 13, 14, 15, 16, 17, 18, 19, 20, 21, 22, 23, 24, 25, 26, 27, 28, 29, 30, 31, 32, 33, 34, 35, 36, 37, 38, 39, 40, 41, 42, 43, 44, 45, 46, 47, 48, 49, 50, 51, 52, 53, 54, 55, 56, 57, 58, 59, 60, 61, 62, 63, 64, 65, 66, 67, 68, 69, 70, 71, 72, 73, 74, 75, 76, 77, 78, 79, 80, 81, 82, 83, 84, 85, 86, 87, 88, 89, 90, 91, 92, 93, 94, 95, 96, 97, 98, 99, 100]}'"
      ]
     },
     "execution_count": 116,
     "metadata": {},
     "output_type": "execute_result"
    }
   ],
   "source": [
    "ts =  {'times': times.tolist(), 'values': values.tolist(), 'k_nearest':k_nearest}\n",
    "\n",
    "#  db.upsert_meta('one', {'order': 1, 'blarg': 1})\n",
    "# print(meta)\n",
    "ts_a = io.StringIO()\n",
    "json.dump( ts, fp=ts_a)\n",
    "ts_a.getvalue()\n"
   ]
  },
  {
   "cell_type": "code",
   "execution_count": 117,
   "metadata": {
    "collapsed": false
   },
   "outputs": [],
   "source": [
    "r = requests.post('http://127.0.0.1:5000/find_similar', json = ts_a.getvalue())"
   ]
  },
  {
   "cell_type": "code",
   "execution_count": 118,
   "metadata": {
    "collapsed": false
   },
   "outputs": [
    {
     "name": "stdout",
     "output_type": "stream",
     "text": [
      "[\"ts-0\", \"ts-1\", \"ts-10\"]\n"
     ]
    }
   ],
   "source": [
    "print(r.text)"
   ]
  },
  {
   "cell_type": "code",
   "execution_count": null,
   "metadata": {
    "collapsed": true
   },
   "outputs": [],
   "source": []
  }
 ],
 "metadata": {
  "kernelspec": {
   "display_name": "Python 3",
   "language": "python",
   "name": "python3"
  },
  "language_info": {
   "codemirror_mode": {
    "name": "ipython",
    "version": 3
   },
   "file_extension": ".py",
   "mimetype": "text/x-python",
   "name": "python",
   "nbconvert_exporter": "python",
   "pygments_lexer": "ipython3",
   "version": "3.5.1"
  }
 },
 "nbformat": 4,
 "nbformat_minor": 0
}
