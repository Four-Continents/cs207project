{
 "cells": [
  {
   "cell_type": "code",
   "execution_count": 822,
   "metadata": {
    "collapsed": false
   },
   "outputs": [],
   "source": [
    "import requests\n",
    "import json\n",
    "import io\n",
    "import numpy as np\n",
    "import re"
   ]
  },
  {
   "cell_type": "markdown",
   "metadata": {},
   "source": [
    "## Insert data"
   ]
  },
  {
   "cell_type": "code",
   "execution_count": 948,
   "metadata": {
    "collapsed": true
   },
   "outputs": [],
   "source": [
    "ts1 = '{\"10\": {\"ts\": {\"times\": [1, 2, 3], \"values\": [2, 4, 9]}}}'\n",
    "ts2 = '{\"12\": {\"ts\": {\"times\": [1, 2, 3], \"values\": [1, 5, 10]}}}'"
   ]
  },
  {
   "cell_type": "code",
   "execution_count": 949,
   "metadata": {
    "collapsed": true
   },
   "outputs": [],
   "source": [
    "r = requests.post('http://127.0.0.1:5000/insert', json = ts1)\n",
    "r = requests.post('http://127.0.0.1:5000/insert', json = ts2)"
   ]
  },
  {
   "cell_type": "markdown",
   "metadata": {},
   "source": [
    "## Request data"
   ]
  },
  {
   "cell_type": "code",
   "execution_count": 923,
   "metadata": {
    "collapsed": false
   },
   "outputs": [],
   "source": [
    "r = requests.get('http://127.0.0.1:5000/select', auth=('user', 'pass'))"
   ]
  },
  {
   "cell_type": "code",
   "execution_count": 924,
   "metadata": {
    "collapsed": false
   },
   "outputs": [],
   "source": [
    "# r.json()"
   ]
  },
  {
   "cell_type": "code",
   "execution_count": 925,
   "metadata": {
    "collapsed": false
   },
   "outputs": [],
   "source": [
    "r = requests.get('http://127.0.0.1:5000/select?fields=ts', auth=('user', 'pass'))\n",
    "# r.json()"
   ]
  },
  {
   "cell_type": "markdown",
   "metadata": {},
   "source": [
    "## Insert meta"
   ]
  },
  {
   "cell_type": "code",
   "execution_count": 950,
   "metadata": {
    "collapsed": false
   },
   "outputs": [
    {
     "name": "stdout",
     "output_type": "stream",
     "text": [
      "{'10': {'order': 1, 'blarg': 1}}\n"
     ]
    },
    {
     "data": {
      "text/plain": [
       "'{\"12\": {\"order\": 2, \"blarg\": 2}}'"
      ]
     },
     "execution_count": 950,
     "metadata": {},
     "output_type": "execute_result"
    }
   ],
   "source": [
    "meta = {'10': {'order': 1, 'blarg': 1}}\n",
    "meta2 = {'12': {'order': 2, 'blarg': 2}}\n",
    "\n",
    "#  db.upsert_meta('one', {'order': 1, 'blarg': 1})\n",
    "print(meta)\n",
    "s_meta = io.StringIO()\n",
    "json.dump(meta, fp=s_meta)\n",
    "s_meta.getvalue()\n",
    "\n",
    "s_meta2 = io.StringIO()\n",
    "json.dump(meta2, fp=s_meta2)\n",
    "s_meta2.getvalue()"
   ]
  },
  {
   "cell_type": "code",
   "execution_count": 951,
   "metadata": {
    "collapsed": false
   },
   "outputs": [],
   "source": [
    "r = requests.post('http://127.0.0.1:5000/upsert_meta', json = s_meta.getvalue())\n",
    "r = requests.post('http://127.0.0.1:5000/upsert_meta', json = s_meta2.getvalue())"
   ]
  },
  {
   "cell_type": "code",
   "execution_count": 798,
   "metadata": {
    "collapsed": false
   },
   "outputs": [],
   "source": [
    "# r = requests.get('http://127.0.0.1:5000/select', auth=('user', 'pass'))\n",
    "# r.json()"
   ]
  },
  {
   "cell_type": "markdown",
   "metadata": {},
   "source": [
    "## Sort by order"
   ]
  },
  {
   "cell_type": "code",
   "execution_count": 523,
   "metadata": {
    "collapsed": false
   },
   "outputs": [
    {
     "data": {
      "text/plain": [
       "{'10': {'blarg': 1, 'order': 1, 'pk': '10'},\n",
       " '12': {'blarg': 2, 'order': 2, 'pk': '12'}}"
      ]
     },
     "execution_count": 523,
     "metadata": {},
     "output_type": "execute_result"
    }
   ],
   "source": [
    "r = requests.get('http://127.0.0.1:5000/select?additional=sort_by,%2Border', auth=('user', 'pass'))\n",
    "r.json()"
   ]
  },
  {
   "cell_type": "code",
   "execution_count": 399,
   "metadata": {
    "collapsed": false
   },
   "outputs": [
    {
     "data": {
      "text/plain": [
       "{'10': {'blarg': 1, 'order': 1, 'pk': '10'}}"
      ]
     },
     "execution_count": 399,
     "metadata": {},
     "output_type": "execute_result"
    }
   ],
   "source": [
    "r = requests.get('http://127.0.0.1:5000/select?additional=sort_by,%2Border,limit,1', auth=('user', 'pass'))\n",
    "r.json()"
   ]
  },
  {
   "cell_type": "code",
   "execution_count": 53,
   "metadata": {
    "collapsed": false
   },
   "outputs": [
    {
     "data": {
      "text/plain": [
       "{'10': {'ts': {'times': [1, 2, 3], 'values': [4, 5, 6]}}}"
      ]
     },
     "execution_count": 53,
     "metadata": {},
     "output_type": "execute_result"
    }
   ],
   "source": [
    "jsonfile = r.json()\n",
    "jsonfile"
   ]
  },
  {
   "cell_type": "code",
   "execution_count": 194,
   "metadata": {
    "collapsed": false
   },
   "outputs": [
    {
     "data": {
      "text/plain": [
       "'{\"10\": {\"ts\": {\"values\": [4, 5, 6], \"times\": [1, 2, 3]}}}'"
      ]
     },
     "execution_count": 194,
     "metadata": {},
     "output_type": "execute_result"
    }
   ],
   "source": [
    "s = io.StringIO()\n",
    "json.dump(jsonfile, fp=s)\n",
    "s.getvalue()"
   ]
  },
  {
   "cell_type": "code",
   "execution_count": 260,
   "metadata": {
    "collapsed": true
   },
   "outputs": [],
   "source": [
    "other_value = '{\"10\": {\"ts\": {\"times\": [1, 2, 3], \"values\": [2, 4, 9]}}}'"
   ]
  },
  {
   "cell_type": "code",
   "execution_count": 267,
   "metadata": {
    "collapsed": false
   },
   "outputs": [],
   "source": [
    "r = requests.post('http://127.0.0.1:5000/insert', json = s.getvalue())"
   ]
  },
  {
   "cell_type": "code",
   "execution_count": 81,
   "metadata": {
    "collapsed": false
   },
   "outputs": [
    {
     "data": {
      "text/plain": [
       "'{\"10\": {\"ts\": {\"values\": [4, 5, 6], \"times\": [1, 2, 3]}}}'"
      ]
     },
     "execution_count": 81,
     "metadata": {},
     "output_type": "execute_result"
    }
   ],
   "source": [
    "s.getvalue()"
   ]
  },
  {
   "cell_type": "code",
   "execution_count": 86,
   "metadata": {
    "collapsed": false
   },
   "outputs": [],
   "source": [
    "data = json.loads(s.getvalue())"
   ]
  },
  {
   "cell_type": "code",
   "execution_count": 643,
   "metadata": {
    "collapsed": false
   },
   "outputs": [
    {
     "data": {
      "text/plain": [
       "{'10': {'pk': '10'}, '12': {'pk': '12'}}"
      ]
     },
     "execution_count": 643,
     "metadata": {},
     "output_type": "execute_result"
    }
   ],
   "source": [
    "r = requests.get('http://127.0.0.1:5000/select', auth=('user', 'pass'))\n",
    "r.json()"
   ]
  },
  {
   "cell_type": "markdown",
   "metadata": {},
   "source": [
    "## Filter by meta"
   ]
  },
  {
   "cell_type": "code",
   "execution_count": 689,
   "metadata": {
    "collapsed": false
   },
   "outputs": [
    {
     "data": {
      "text/plain": [
       "{}"
      ]
     },
     "execution_count": 689,
     "metadata": {},
     "output_type": "execute_result"
    }
   ],
   "source": [
    "r = requests.get('http://127.0.0.1:5000/select?md=blarg,<2', auth=('user', 'pass'))\n",
    "# {'blarg': {'<=': 2}}\n",
    "r.json()"
   ]
  },
  {
   "cell_type": "markdown",
   "metadata": {},
   "source": [
    "## Select augmented"
   ]
  },
  {
   "cell_type": "code",
   "execution_count": 978,
   "metadata": {
    "collapsed": false
   },
   "outputs": [
    {
     "data": {
      "text/plain": [
       "'{\"target\": [\"damean\", \"dastd\"], \"proc\": \"stats\", \"md\": {\"blarg\": {\">=\": 1}}, \"additional\": {\"limit\": 2, \"sort_by\": \"+order\"}}'"
      ]
     },
     "execution_count": 978,
     "metadata": {},
     "output_type": "execute_result"
    }
   ],
   "source": [
    "augmented = {'md': {\"blarg\": {'>=': 1}},'proc':'stats','target':['damean','dastd'], 'additional':{\"sort_by\": \"+order\", \"limit\": 2}}\n",
    "augemented_json = io.StringIO()\n",
    "json.dump(augmented, fp=augemented_json)\n",
    "augmented_data = augemented_json.getvalue()\n",
    "augmented_data"
   ]
  },
  {
   "cell_type": "code",
   "execution_count": 979,
   "metadata": {
    "collapsed": false,
    "scrolled": false
   },
   "outputs": [
    {
     "data": {
      "text/plain": [
       "{'10': {'damean': 5.0, 'dastd': 2.943920288775949},\n",
       " '12': {'damean': 5.333333333333333, 'dastd': 3.6817870057290873}}"
      ]
     },
     "execution_count": 979,
     "metadata": {},
     "output_type": "execute_result"
    }
   ],
   "source": [
    "r = requests.post('http://127.0.0.1:5000/augmented_select', json = augmented_data)\n",
    "# print (r.text)\n",
    "r.json()"
   ]
  },
  {
   "cell_type": "code",
   "execution_count": null,
   "metadata": {
    "collapsed": true
   },
   "outputs": [],
   "source": []
  }
 ],
 "metadata": {
  "kernelspec": {
   "display_name": "Python 3",
   "language": "python",
   "name": "python3"
  },
  "language_info": {
   "codemirror_mode": {
    "name": "ipython",
    "version": 3
   },
   "file_extension": ".py",
   "mimetype": "text/x-python",
   "name": "python",
   "nbconvert_exporter": "python",
   "pygments_lexer": "ipython3",
   "version": "3.5.1"
  }
 },
 "nbformat": 4,
 "nbformat_minor": 0
}
