{
 "cells": [
  {
   "cell_type": "code",
   "execution_count": 1,
   "metadata": {
    "collapsed": false
   },
   "outputs": [],
   "source": [
    "import requests\n",
    "import json\n",
    "import io\n",
    "import numpy as np\n",
    "import re"
   ]
  },
  {
   "cell_type": "markdown",
   "metadata": {},
   "source": [
    "## Insert data"
   ]
  },
  {
   "cell_type": "code",
   "execution_count": 27,
   "metadata": {
    "collapsed": true
   },
   "outputs": [],
   "source": [
    "ts1 = '{\"1\": {\"ts\": {\"times\": [1, 2, 3], \"values\": [2, 4, 9]}}}'\n",
    "ts2 = '{\"2\": {\"ts\": {\"times\": [1, 2, 3], \"values\": [1, 5, 10]}}}'"
   ]
  },
  {
   "cell_type": "code",
   "execution_count": 28,
   "metadata": {
    "collapsed": false
   },
   "outputs": [],
   "source": [
    "r = requests.post('http://127.0.0.1:5000/insert', json = ts1)\n",
    "r = requests.post('http://127.0.0.1:5000/insert', json = ts2)"
   ]
  },
  {
   "cell_type": "markdown",
   "metadata": {},
   "source": [
    "## Request data"
   ]
  },
  {
   "cell_type": "code",
   "execution_count": 4,
   "metadata": {
    "collapsed": false
   },
   "outputs": [],
   "source": [
    "r = requests.get('http://127.0.0.1:5000/select', auth=('user', 'pass'))"
   ]
  },
  {
   "cell_type": "code",
   "execution_count": 5,
   "metadata": {
    "collapsed": false
   },
   "outputs": [
    {
     "data": {
      "text/plain": [
       "'<pre>{\\n    \"2\": {},\\n    \"1\": {}\\n}</pre>'"
      ]
     },
     "execution_count": 5,
     "metadata": {},
     "output_type": "execute_result"
    }
   ],
   "source": [
    "r.text"
   ]
  },
  {
   "cell_type": "code",
   "execution_count": 7,
   "metadata": {
    "collapsed": false
   },
   "outputs": [],
   "source": [
    "assert r.text == '<pre>{\\n    \"1\": {},\\n    \"2\": {}\\n}</pre>' or '<pre>{\\n    \"2\": {},\\n    \"1\": {}\\n}</pre>'"
   ]
  },
  {
   "cell_type": "code",
   "execution_count": 925,
   "metadata": {
    "collapsed": false
   },
   "outputs": [],
   "source": [
    "r = requests.get('http://127.0.0.1:5000/select?fields=ts', auth=('user', 'pass'))\n",
    "# r.json()"
   ]
  },
  {
   "cell_type": "markdown",
   "metadata": {},
   "source": [
    "## Insert meta"
   ]
  },
  {
   "cell_type": "code",
   "execution_count": 145,
   "metadata": {
    "collapsed": false
   },
   "outputs": [
    {
     "data": {
      "text/plain": [
       "'{\"2\": {\"blarg\": 2, \"order\": 2}}'"
      ]
     },
     "execution_count": 145,
     "metadata": {},
     "output_type": "execute_result"
    }
   ],
   "source": [
    "meta = {'1': {'order': 1, 'blarg': 1}}\n",
    "meta2 = {'2': {'order': 2, 'blarg': 2}}\n",
    "\n",
    "#  db.upsert_meta('one', {'order': 1, 'blarg': 1})\n",
    "# print(meta)\n",
    "s_meta = io.StringIO()\n",
    "json.dump(meta, fp=s_meta)\n",
    "s_meta.getvalue()\n",
    "\n",
    "s_meta2 = io.StringIO()\n",
    "json.dump(meta2, fp=s_meta2)\n",
    "s_meta2.getvalue()"
   ]
  },
  {
   "cell_type": "code",
   "execution_count": 146,
   "metadata": {
    "collapsed": false
   },
   "outputs": [],
   "source": [
    "r = requests.post('http://127.0.0.1:5000/upsert_meta', json = s_meta.getvalue())\n",
    "r = requests.post('http://127.0.0.1:5000/upsert_meta', json = s_meta2.getvalue())"
   ]
  },
  {
   "cell_type": "code",
   "execution_count": 10,
   "metadata": {
    "collapsed": false
   },
   "outputs": [
    {
     "data": {
      "text/plain": [
       "'<pre>{\\n    \"2\": {\\n        \"order\": 2\\n    },\\n    \"1\": {\\n        \"order\": 1\\n    }\\n}</pre>'"
      ]
     },
     "execution_count": 10,
     "metadata": {},
     "output_type": "execute_result"
    }
   ],
   "source": [
    "r = requests.get('http://127.0.0.1:5000/select?fields=order', auth=('user', 'pass'))\n",
    "r.text"
   ]
  },
  {
   "cell_type": "code",
   "execution_count": 31,
   "metadata": {
    "collapsed": true
   },
   "outputs": [],
   "source": [
    "assert r.json() == {'1': {'order': 1}, '2': {'order': 2}}"
   ]
  },
  {
   "cell_type": "markdown",
   "metadata": {},
   "source": [
    "## Sort by order"
   ]
  },
  {
   "cell_type": "code",
   "execution_count": 12,
   "metadata": {
    "collapsed": false
   },
   "outputs": [
    {
     "data": {
      "text/plain": [
       "'<pre>{\\n    \"1\": {},\\n    \"2\": {}\\n}</pre>'"
      ]
     },
     "execution_count": 12,
     "metadata": {},
     "output_type": "execute_result"
    }
   ],
   "source": [
    "r = requests.get('http://127.0.0.1:5000/select?additional=sort_by,%2Border', auth=('user', 'pass'))\n",
    "r.text"
   ]
  },
  {
   "cell_type": "code",
   "execution_count": 399,
   "metadata": {
    "collapsed": false
   },
   "outputs": [
    {
     "data": {
      "text/plain": [
       "{'10': {'blarg': 1, 'order': 1, 'pk': '10'}}"
      ]
     },
     "execution_count": 399,
     "metadata": {},
     "output_type": "execute_result"
    }
   ],
   "source": [
    "r = requests.get('http://127.0.0.1:5000/select?additional=sort_by,%2Border,limit,1', auth=('user', 'pass'))\n",
    "r.json()"
   ]
  },
  {
   "cell_type": "code",
   "execution_count": 53,
   "metadata": {
    "collapsed": false
   },
   "outputs": [
    {
     "data": {
      "text/plain": [
       "{'10': {'ts': {'times': [1, 2, 3], 'values': [4, 5, 6]}}}"
      ]
     },
     "execution_count": 53,
     "metadata": {},
     "output_type": "execute_result"
    }
   ],
   "source": [
    "jsonfile = r.json()\n",
    "jsonfile"
   ]
  },
  {
   "cell_type": "code",
   "execution_count": 194,
   "metadata": {
    "collapsed": false
   },
   "outputs": [
    {
     "data": {
      "text/plain": [
       "'{\"10\": {\"ts\": {\"values\": [4, 5, 6], \"times\": [1, 2, 3]}}}'"
      ]
     },
     "execution_count": 194,
     "metadata": {},
     "output_type": "execute_result"
    }
   ],
   "source": [
    "s = io.StringIO()\n",
    "json.dump(jsonfile, fp=s)\n",
    "s.getvalue()"
   ]
  },
  {
   "cell_type": "code",
   "execution_count": 260,
   "metadata": {
    "collapsed": true
   },
   "outputs": [],
   "source": [
    "other_value = '{\"10\": {\"ts\": {\"times\": [1, 2, 3], \"values\": [2, 4, 9]}}}'"
   ]
  },
  {
   "cell_type": "code",
   "execution_count": 267,
   "metadata": {
    "collapsed": false
   },
   "outputs": [],
   "source": [
    "r = requests.post('http://127.0.0.1:5000/insert', json = s.getvalue())"
   ]
  },
  {
   "cell_type": "code",
   "execution_count": 81,
   "metadata": {
    "collapsed": false
   },
   "outputs": [
    {
     "data": {
      "text/plain": [
       "'{\"10\": {\"ts\": {\"values\": [4, 5, 6], \"times\": [1, 2, 3]}}}'"
      ]
     },
     "execution_count": 81,
     "metadata": {},
     "output_type": "execute_result"
    }
   ],
   "source": [
    "s.getvalue()"
   ]
  },
  {
   "cell_type": "code",
   "execution_count": 86,
   "metadata": {
    "collapsed": false
   },
   "outputs": [],
   "source": [
    "data = json.loads(s.getvalue())"
   ]
  },
  {
   "cell_type": "code",
   "execution_count": 643,
   "metadata": {
    "collapsed": false
   },
   "outputs": [
    {
     "data": {
      "text/plain": [
       "{'10': {'pk': '10'}, '12': {'pk': '12'}}"
      ]
     },
     "execution_count": 643,
     "metadata": {},
     "output_type": "execute_result"
    }
   ],
   "source": [
    "r = requests.get('http://127.0.0.1:5000/select', auth=('user', 'pass'))\n",
    "r.json()"
   ]
  },
  {
   "cell_type": "markdown",
   "metadata": {},
   "source": [
    "## Filter by meta"
   ]
  },
  {
   "cell_type": "code",
   "execution_count": 689,
   "metadata": {
    "collapsed": false
   },
   "outputs": [
    {
     "data": {
      "text/plain": [
       "{}"
      ]
     },
     "execution_count": 689,
     "metadata": {},
     "output_type": "execute_result"
    }
   ],
   "source": [
    "r = requests.get('http://127.0.0.1:5000/select?md=blarg,<2', auth=('user', 'pass'))\n",
    "# {'blarg': {'<=': 2}}\n",
    "r.json()"
   ]
  },
  {
   "cell_type": "markdown",
   "metadata": {},
   "source": [
    "## Select augmented"
   ]
  },
  {
   "cell_type": "code",
   "execution_count": 147,
   "metadata": {
    "collapsed": false
   },
   "outputs": [
    {
     "data": {
      "text/plain": [
       "'{\"md\": {\"blarg\": {\">=\": 1}}, \"target\": [\"damean\", \"dastd\"], \"proc\": \"stats\", \"additional\": {\"limit\": 2, \"sort_by\": \"+order\"}}'"
      ]
     },
     "execution_count": 147,
     "metadata": {},
     "output_type": "execute_result"
    }
   ],
   "source": [
    "augmented = {'md': {\"blarg\": {'>=': 1}},'proc':'stats','target':['damean','dastd'], 'additional':{\"sort_by\": \"+order\", \"limit\": 2}}\n",
    "augemented_json = io.StringIO()\n",
    "json.dump(augmented, fp=augemented_json)\n",
    "augmented_data = augemented_json.getvalue()\n",
    "augmented_data"
   ]
  },
  {
   "cell_type": "code",
   "execution_count": 148,
   "metadata": {
    "collapsed": false,
    "scrolled": false
   },
   "outputs": [
    {
     "data": {
      "text/plain": [
       "'<!DOCTYPE HTML PUBLIC \"-//W3C//DTD HTML 4.01 Transitional//EN\"\\n  \"http://www.w3.org/TR/html4/loose.dtd\">\\n<html>\\n  <head>\\n    <title>TimeoutError // Werkzeug Debugger</title>\\n    <link rel=\"stylesheet\" href=\"?__debugger__=yes&amp;cmd=resource&amp;f=style.css\"\\n        type=\"text/css\">\\n    <!-- We need to make sure this has a favicon so that the debugger does\\n         not by accident trigger a request to /favicon.ico which might\\n         change the application state. -->\\n    <link rel=\"shortcut icon\"\\n        href=\"?__debugger__=yes&amp;cmd=resource&amp;f=console.png\">\\n    <script src=\"?__debugger__=yes&amp;cmd=resource&amp;f=jquery.js\"></script>\\n    <script src=\"?__debugger__=yes&amp;cmd=resource&amp;f=debugger.js\"></script>\\n    <script type=\"text/javascript\">\\n      var TRACEBACK = 4395178808,\\n          CONSOLE_MODE = false,\\n          EVALEX = true,\\n          EVALEX_TRUSTED = false,\\n          SECRET = \"Q7dZIXNzpOlyi8Exzjje\";\\n    </script>\\n  </head>\\n  <body>\\n    <div class=\"debugger\">\\n<h1>builtins.TimeoutError</h1>\\n<div class=\"detail\">\\n  <p class=\"errormsg\">TimeoutError</p>\\n</div>\\n<h2 class=\"traceback\">Traceback <em>(most recent call last)</em></h2>\\n<div class=\"traceback\">\\n  \\n  <ul><li><div class=\"frame\" id=\"frame-4395179368\">\\n  <h4>File <cite class=\"filename\">\"/Users/isadoranun/anaconda/envs/py35/lib/python3.5/site-packages/flask/app.py\"</cite>,\\n      line <em class=\"line\">1836</em>,\\n      in <code class=\"function\">__call__</code></h4>\\n  <div class=\"source\"><pre class=\"line before\"><span class=\"ws\">                                </span>\\'Flask.blueprints instead\\'), stacklevel=2)</pre>\\n<pre class=\"line before\"><span class=\"ws\">        </span>return self.blueprints</pre>\\n<pre class=\"line before\"><span class=\"ws\"></span> </pre>\\n<pre class=\"line before\"><span class=\"ws\">    </span>def __call__(self, environ, start_response):</pre>\\n<pre class=\"line before\"><span class=\"ws\">        </span>&quot;&quot;&quot;Shortcut for :attr:`wsgi_app`.&quot;&quot;&quot;</pre>\\n<pre class=\"line current\"><span class=\"ws\">        </span>return self.wsgi_app(environ, start_response)</pre>\\n<pre class=\"line after\"><span class=\"ws\"></span> </pre>\\n<pre class=\"line after\"><span class=\"ws\">    </span>def __repr__(self):</pre>\\n<pre class=\"line after\"><span class=\"ws\">        </span>return \\'&lt;%s %r&gt;\\' % (</pre>\\n<pre class=\"line after\"><span class=\"ws\">            </span>self.__class__.__name__,</pre>\\n<pre class=\"line after\"><span class=\"ws\">            </span>self.name,</pre></div>\\n</div>\\n\\n<li><div class=\"frame\" id=\"frame-4395179088\">\\n  <h4>File <cite class=\"filename\">\"/Users/isadoranun/anaconda/envs/py35/lib/python3.5/site-packages/flask/app.py\"</cite>,\\n      line <em class=\"line\">1820</em>,\\n      in <code class=\"function\">wsgi_app</code></h4>\\n  <div class=\"source\"><pre class=\"line before\"><span class=\"ws\">        </span>try:</pre>\\n<pre class=\"line before\"><span class=\"ws\">            </span>try:</pre>\\n<pre class=\"line before\"><span class=\"ws\">                </span>response = self.full_dispatch_request()</pre>\\n<pre class=\"line before\"><span class=\"ws\">            </span>except Exception as e:</pre>\\n<pre class=\"line before\"><span class=\"ws\">                </span>error = e</pre>\\n<pre class=\"line current\"><span class=\"ws\">                </span>response = self.make_response(self.handle_exception(e))</pre>\\n<pre class=\"line after\"><span class=\"ws\">            </span>return response(environ, start_response)</pre>\\n<pre class=\"line after\"><span class=\"ws\">        </span>finally:</pre>\\n<pre class=\"line after\"><span class=\"ws\">            </span>if self.should_ignore_error(error):</pre>\\n<pre class=\"line after\"><span class=\"ws\">                </span>error = None</pre>\\n<pre class=\"line after\"><span class=\"ws\">            </span>ctx.auto_pop(error)</pre></div>\\n</div>\\n\\n<li><div class=\"frame\" id=\"frame-4395178416\">\\n  <h4>File <cite class=\"filename\">\"/Users/isadoranun/anaconda/envs/py35/lib/python3.5/site-packages/flask/app.py\"</cite>,\\n      line <em class=\"line\">1403</em>,\\n      in <code class=\"function\">handle_exception</code></h4>\\n  <div class=\"source\"><pre class=\"line before\"><span class=\"ws\">            </span># if we want to repropagate the exception, we can attempt to</pre>\\n<pre class=\"line before\"><span class=\"ws\">            </span># raise it with the whole traceback in case we can do that</pre>\\n<pre class=\"line before\"><span class=\"ws\">            </span># (the function was actually called from the except part)</pre>\\n<pre class=\"line before\"><span class=\"ws\">            </span># otherwise, we just raise the error again</pre>\\n<pre class=\"line before\"><span class=\"ws\">            </span>if exc_value is e:</pre>\\n<pre class=\"line current\"><span class=\"ws\">                </span>reraise(exc_type, exc_value, tb)</pre>\\n<pre class=\"line after\"><span class=\"ws\">            </span>else:</pre>\\n<pre class=\"line after\"><span class=\"ws\">                </span>raise e</pre>\\n<pre class=\"line after\"><span class=\"ws\"></span> </pre>\\n<pre class=\"line after\"><span class=\"ws\">        </span>self.log_exception((exc_type, exc_value, tb))</pre>\\n<pre class=\"line after\"><span class=\"ws\">        </span>if handler is None:</pre></div>\\n</div>\\n\\n<li><div class=\"frame\" id=\"frame-4395176624\">\\n  <h4>File <cite class=\"filename\">\"/Users/isadoranun/anaconda/envs/py35/lib/python3.5/site-packages/flask/_compat.py\"</cite>,\\n      line <em class=\"line\">33</em>,\\n      in <code class=\"function\">reraise</code></h4>\\n  <div class=\"source\"><pre class=\"line before\"><span class=\"ws\">    </span>from io import StringIO</pre>\\n<pre class=\"line before\"><span class=\"ws\"></span> </pre>\\n<pre class=\"line before\"><span class=\"ws\">    </span>def reraise(tp, value, tb=None):</pre>\\n<pre class=\"line before\"><span class=\"ws\">        </span>if value.__traceback__ is not tb:</pre>\\n<pre class=\"line before\"><span class=\"ws\">            </span>raise value.with_traceback(tb)</pre>\\n<pre class=\"line current\"><span class=\"ws\">        </span>raise value</pre>\\n<pre class=\"line after\"><span class=\"ws\"></span> </pre>\\n<pre class=\"line after\"><span class=\"ws\">    </span>implements_to_string = _identity</pre>\\n<pre class=\"line after\"><span class=\"ws\"></span> </pre>\\n<pre class=\"line after\"><span class=\"ws\"></span>else:</pre>\\n<pre class=\"line after\"><span class=\"ws\">    </span>text_type = unicode</pre></div>\\n</div>\\n\\n<li><div class=\"frame\" id=\"frame-4395179256\">\\n  <h4>File <cite class=\"filename\">\"/Users/isadoranun/anaconda/envs/py35/lib/python3.5/site-packages/flask/app.py\"</cite>,\\n      line <em class=\"line\">1817</em>,\\n      in <code class=\"function\">wsgi_app</code></h4>\\n  <div class=\"source\"><pre class=\"line before\"><span class=\"ws\">        </span>ctx = self.request_context(environ)</pre>\\n<pre class=\"line before\"><span class=\"ws\">        </span>ctx.push()</pre>\\n<pre class=\"line before\"><span class=\"ws\">        </span>error = None</pre>\\n<pre class=\"line before\"><span class=\"ws\">        </span>try:</pre>\\n<pre class=\"line before\"><span class=\"ws\">            </span>try:</pre>\\n<pre class=\"line current\"><span class=\"ws\">                </span>response = self.full_dispatch_request()</pre>\\n<pre class=\"line after\"><span class=\"ws\">            </span>except Exception as e:</pre>\\n<pre class=\"line after\"><span class=\"ws\">                </span>error = e</pre>\\n<pre class=\"line after\"><span class=\"ws\">                </span>response = self.make_response(self.handle_exception(e))</pre>\\n<pre class=\"line after\"><span class=\"ws\">            </span>return response(environ, start_response)</pre>\\n<pre class=\"line after\"><span class=\"ws\">        </span>finally:</pre></div>\\n</div>\\n\\n<li><div class=\"frame\" id=\"frame-4395178696\">\\n  <h4>File <cite class=\"filename\">\"/Users/isadoranun/anaconda/envs/py35/lib/python3.5/site-packages/flask/app.py\"</cite>,\\n      line <em class=\"line\">1477</em>,\\n      in <code class=\"function\">full_dispatch_request</code></h4>\\n  <div class=\"source\"><pre class=\"line before\"><span class=\"ws\">            </span>request_started.send(self)</pre>\\n<pre class=\"line before\"><span class=\"ws\">            </span>rv = self.preprocess_request()</pre>\\n<pre class=\"line before\"><span class=\"ws\">            </span>if rv is None:</pre>\\n<pre class=\"line before\"><span class=\"ws\">                </span>rv = self.dispatch_request()</pre>\\n<pre class=\"line before\"><span class=\"ws\">        </span>except Exception as e:</pre>\\n<pre class=\"line current\"><span class=\"ws\">            </span>rv = self.handle_user_exception(e)</pre>\\n<pre class=\"line after\"><span class=\"ws\">        </span>response = self.make_response(rv)</pre>\\n<pre class=\"line after\"><span class=\"ws\">        </span>response = self.process_response(response)</pre>\\n<pre class=\"line after\"><span class=\"ws\">        </span>request_finished.send(self, response=response)</pre>\\n<pre class=\"line after\"><span class=\"ws\">        </span>return response</pre>\\n<pre class=\"line after\"><span class=\"ws\"></span> </pre></div>\\n</div>\\n\\n<li><div class=\"frame\" id=\"frame-4395177744\">\\n  <h4>File <cite class=\"filename\">\"/Users/isadoranun/anaconda/envs/py35/lib/python3.5/site-packages/flask/app.py\"</cite>,\\n      line <em class=\"line\">1381</em>,\\n      in <code class=\"function\">handle_user_exception</code></h4>\\n  <div class=\"source\"><pre class=\"line before\"><span class=\"ws\">        </span>app_handlers = self.error_handler_spec[None].get(None, ())</pre>\\n<pre class=\"line before\"><span class=\"ws\">        </span>for typecheck, handler in chain(blueprint_handlers, app_handlers):</pre>\\n<pre class=\"line before\"><span class=\"ws\">            </span>if isinstance(e, typecheck):</pre>\\n<pre class=\"line before\"><span class=\"ws\">                </span>return handler(e)</pre>\\n<pre class=\"line before\"><span class=\"ws\"></span> </pre>\\n<pre class=\"line current\"><span class=\"ws\">        </span>reraise(exc_type, exc_value, tb)</pre>\\n<pre class=\"line after\"><span class=\"ws\"></span> </pre>\\n<pre class=\"line after\"><span class=\"ws\">    </span>def handle_exception(self, e):</pre>\\n<pre class=\"line after\"><span class=\"ws\">        </span>&quot;&quot;&quot;Default exception handling that kicks in when an exception</pre>\\n<pre class=\"line after\"><span class=\"ws\">        </span>occurs that is not caught.  In debug mode the exception will</pre>\\n<pre class=\"line after\"><span class=\"ws\">        </span>be re-raised immediately, otherwise it is logged and the handler</pre></div>\\n</div>\\n\\n<li><div class=\"frame\" id=\"frame-4395176960\">\\n  <h4>File <cite class=\"filename\">\"/Users/isadoranun/anaconda/envs/py35/lib/python3.5/site-packages/flask/_compat.py\"</cite>,\\n      line <em class=\"line\">33</em>,\\n      in <code class=\"function\">reraise</code></h4>\\n  <div class=\"source\"><pre class=\"line before\"><span class=\"ws\">    </span>from io import StringIO</pre>\\n<pre class=\"line before\"><span class=\"ws\"></span> </pre>\\n<pre class=\"line before\"><span class=\"ws\">    </span>def reraise(tp, value, tb=None):</pre>\\n<pre class=\"line before\"><span class=\"ws\">        </span>if value.__traceback__ is not tb:</pre>\\n<pre class=\"line before\"><span class=\"ws\">            </span>raise value.with_traceback(tb)</pre>\\n<pre class=\"line current\"><span class=\"ws\">        </span>raise value</pre>\\n<pre class=\"line after\"><span class=\"ws\"></span> </pre>\\n<pre class=\"line after\"><span class=\"ws\">    </span>implements_to_string = _identity</pre>\\n<pre class=\"line after\"><span class=\"ws\"></span> </pre>\\n<pre class=\"line after\"><span class=\"ws\"></span>else:</pre>\\n<pre class=\"line after\"><span class=\"ws\">    </span>text_type = unicode</pre></div>\\n</div>\\n\\n<li><div class=\"frame\" id=\"frame-4395179424\">\\n  <h4>File <cite class=\"filename\">\"/Users/isadoranun/anaconda/envs/py35/lib/python3.5/site-packages/flask/app.py\"</cite>,\\n      line <em class=\"line\">1475</em>,\\n      in <code class=\"function\">full_dispatch_request</code></h4>\\n  <div class=\"source\"><pre class=\"line before\"><span class=\"ws\">        </span>self.try_trigger_before_first_request_functions()</pre>\\n<pre class=\"line before\"><span class=\"ws\">        </span>try:</pre>\\n<pre class=\"line before\"><span class=\"ws\">            </span>request_started.send(self)</pre>\\n<pre class=\"line before\"><span class=\"ws\">            </span>rv = self.preprocess_request()</pre>\\n<pre class=\"line before\"><span class=\"ws\">            </span>if rv is None:</pre>\\n<pre class=\"line current\"><span class=\"ws\">                </span>rv = self.dispatch_request()</pre>\\n<pre class=\"line after\"><span class=\"ws\">        </span>except Exception as e:</pre>\\n<pre class=\"line after\"><span class=\"ws\">            </span>rv = self.handle_user_exception(e)</pre>\\n<pre class=\"line after\"><span class=\"ws\">        </span>response = self.make_response(rv)</pre>\\n<pre class=\"line after\"><span class=\"ws\">        </span>response = self.process_response(response)</pre>\\n<pre class=\"line after\"><span class=\"ws\">        </span>request_finished.send(self, response=response)</pre></div>\\n</div>\\n\\n<li><div class=\"frame\" id=\"frame-4395177352\">\\n  <h4>File <cite class=\"filename\">\"/Users/isadoranun/anaconda/envs/py35/lib/python3.5/site-packages/flask/app.py\"</cite>,\\n      line <em class=\"line\">1461</em>,\\n      in <code class=\"function\">dispatch_request</code></h4>\\n  <div class=\"source\"><pre class=\"line before\"><span class=\"ws\">        </span># request came with the OPTIONS method, reply automatically</pre>\\n<pre class=\"line before\"><span class=\"ws\">        </span>if getattr(rule, \\'provide_automatic_options\\', False) \\\\</pre>\\n<pre class=\"line before\"><span class=\"ws\">           </span>and req.method == \\'OPTIONS\\':</pre>\\n<pre class=\"line before\"><span class=\"ws\">            </span>return self.make_default_options_response()</pre>\\n<pre class=\"line before\"><span class=\"ws\">        </span># otherwise dispatch to the handler for that endpoint</pre>\\n<pre class=\"line current\"><span class=\"ws\">        </span>return self.view_functions[rule.endpoint](**req.view_args)</pre>\\n<pre class=\"line after\"><span class=\"ws\"></span> </pre>\\n<pre class=\"line after\"><span class=\"ws\">    </span>def full_dispatch_request(self):</pre>\\n<pre class=\"line after\"><span class=\"ws\">        </span>&quot;&quot;&quot;Dispatches the request and on top of that performs request</pre>\\n<pre class=\"line after\"><span class=\"ws\">        </span>pre and postprocessing as well as HTTP exception catching and</pre>\\n<pre class=\"line after\"><span class=\"ws\">        </span>error handling.</pre></div>\\n</div>\\n\\n<li><div class=\"frame\" id=\"frame-4395178304\">\\n  <h4>File <cite class=\"filename\">\"/Users/isadoranun/Documents/CS207/cs207project/timeseries/tsdb/tsdb_httpServer.py\"</cite>,\\n      line <em class=\"line\">99</em>,\\n      in <code class=\"function\">augmented_select</code></h4>\\n  <div class=\"source\"><pre class=\"line before\"><span class=\"ws\">    </span>proc = data[&quot;proc&quot;]</pre>\\n<pre class=\"line before\"><span class=\"ws\">    </span>target = data[&quot;target&quot;]</pre>\\n<pre class=\"line before\"><span class=\"ws\">    </span>arg = data[&quot;arg&quot;] if &quot;arg&quot; in data else None</pre>\\n<pre class=\"line before\"><span class=\"ws\"></span> </pre>\\n<pre class=\"line before\"><span class=\"ws\">    </span># self, proc, target, arg=None, metadata_dict={}, additional=None)</pre>\\n<pre class=\"line current\"><span class=\"ws\">    </span>_, result = client.augmented_select(proc, target, arg, md, additional)</pre>\\n<pre class=\"line after\"><span class=\"ws\"></span> </pre>\\n<pre class=\"line after\"><span class=\"ws\">    </span>print(&quot;In http:&quot;, result)</pre>\\n<pre class=\"line after\"><span class=\"ws\">    </span># return flask.jsonify(**result)</pre>\\n<pre class=\"line after\"><span class=\"ws\">    </span>return json.dumps(result, sort_keys=False, indent=4, separators=(\\',\\', \\': \\'))</pre>\\n<pre class=\"line after\"><span class=\"ws\"></span> </pre></div>\\n</div>\\n\\n<li><div class=\"frame\" id=\"frame-4395179144\">\\n  <h4>File <cite class=\"filename\">\"/Users/isadoranun/Documents/CS207/cs207project/timeseries/tsdb/tsdb_client.py\"</cite>,\\n      line <em class=\"line\">164</em>,\\n      in <code class=\"function\">augmented_select</code></h4>\\n  <div class=\"source\"><pre class=\"line before\"><span class=\"ws\">        </span>target specified</pre>\\n<pre class=\"line before\"><span class=\"ws\">        </span>&quot;&quot;&quot;</pre>\\n<pre class=\"line before\"><span class=\"ws\">        </span>print(&quot;HEEEREEE&quot;)</pre>\\n<pre class=\"line before\"><span class=\"ws\">        </span>json_dict = typemap[&quot;augmented_select&quot;](proc, target, arg, metadata_dict, additional).to_json()</pre>\\n<pre class=\"line before\"><span class=\"ws\">        </span>msg = serialize(json_dict)</pre>\\n<pre class=\"line current\"><span class=\"ws\">        </span>return self._send(msg)</pre>\\n<pre class=\"line after\"><span class=\"ws\">        </span># your code here</pre>\\n<pre class=\"line after\"><span class=\"ws\"></span> </pre>\\n<pre class=\"line after\"><span class=\"ws\">    </span>def add_trigger(self, proc, onwhat, target, arg):</pre>\\n<pre class=\"line after\"><span class=\"ws\">        </span>&quot;&quot;&quot;</pre>\\n<pre class=\"line after\"><span class=\"ws\">        </span>Ties a trigger to a database command</pre></div>\\n</div>\\n\\n<li><div class=\"frame\" id=\"frame-4395178472\">\\n  <h4>File <cite class=\"filename\">\"/Users/isadoranun/Documents/CS207/cs207project/timeseries/tsdb/tsdb_client.py\"</cite>,\\n      line <em class=\"line\">405</em>,\\n      in <code class=\"function\">_send</code></h4>\\n  <div class=\"source\"><pre class=\"line before\"><span class=\"ws\">        </span>&quot;&quot;&quot;</pre>\\n<pre class=\"line before\"><span class=\"ws\">        </span># loop = asyncio.get_event_loop()</pre>\\n<pre class=\"line before\"><span class=\"ws\">        </span>loop = asyncio.new_event_loop()</pre>\\n<pre class=\"line before\"><span class=\"ws\">        </span>asyncio.set_event_loop(loop)</pre>\\n<pre class=\"line before\"><span class=\"ws\">        </span>coro = asyncio.ensure_future(self._send_coro(msg, loop))</pre>\\n<pre class=\"line current\"><span class=\"ws\">        </span>loop.run_until_complete(coro)</pre>\\n<pre class=\"line after\"><span class=\"ws\">        </span>return coro.result()</pre></div>\\n</div>\\n\\n<li><div class=\"frame\" id=\"frame-4395178136\">\\n  <h4>File <cite class=\"filename\">\"/Users/isadoranun/anaconda/envs/py35/lib/python3.5/asyncio/base_events.py\"</cite>,\\n      line <em class=\"line\">337</em>,\\n      in <code class=\"function\">run_until_complete</code></h4>\\n  <div class=\"source\"><pre class=\"line before\"><span class=\"ws\">            </span>raise</pre>\\n<pre class=\"line before\"><span class=\"ws\">        </span>future.remove_done_callback(_run_until_complete_cb)</pre>\\n<pre class=\"line before\"><span class=\"ws\">        </span>if not future.done():</pre>\\n<pre class=\"line before\"><span class=\"ws\">            </span>raise RuntimeError(\\'Event loop stopped before Future completed.\\')</pre>\\n<pre class=\"line before\"><span class=\"ws\"></span> </pre>\\n<pre class=\"line current\"><span class=\"ws\">        </span>return future.result()</pre>\\n<pre class=\"line after\"><span class=\"ws\"></span> </pre>\\n<pre class=\"line after\"><span class=\"ws\">    </span>def stop(self):</pre>\\n<pre class=\"line after\"><span class=\"ws\">        </span>&quot;&quot;&quot;Stop running the event loop.</pre>\\n<pre class=\"line after\"><span class=\"ws\"></span> </pre>\\n<pre class=\"line after\"><span class=\"ws\">        </span>Every callback already scheduled will still run.  This simply informs</pre></div>\\n</div>\\n\\n<li><div class=\"frame\" id=\"frame-4395178360\">\\n  <h4>File <cite class=\"filename\">\"/Users/isadoranun/anaconda/envs/py35/lib/python3.5/asyncio/futures.py\"</cite>,\\n      line <em class=\"line\">274</em>,\\n      in <code class=\"function\">result</code></h4>\\n  <div class=\"source\"><pre class=\"line before\"><span class=\"ws\">        </span>self._log_traceback = False</pre>\\n<pre class=\"line before\"><span class=\"ws\">        </span>if self._tb_logger is not None:</pre>\\n<pre class=\"line before\"><span class=\"ws\">            </span>self._tb_logger.clear()</pre>\\n<pre class=\"line before\"><span class=\"ws\">            </span>self._tb_logger = None</pre>\\n<pre class=\"line before\"><span class=\"ws\">        </span>if self._exception is not None:</pre>\\n<pre class=\"line current\"><span class=\"ws\">            </span>raise self._exception</pre>\\n<pre class=\"line after\"><span class=\"ws\">        </span>return self._result</pre>\\n<pre class=\"line after\"><span class=\"ws\"></span> </pre>\\n<pre class=\"line after\"><span class=\"ws\">    </span>def exception(self):</pre>\\n<pre class=\"line after\"><span class=\"ws\">        </span>&quot;&quot;&quot;Return the exception that was set on this future.</pre>\\n<pre class=\"line after\"><span class=\"ws\"></span> </pre></div>\\n</div>\\n\\n<li><div class=\"frame\" id=\"frame-4395178024\">\\n  <h4>File <cite class=\"filename\">\"/Users/isadoranun/anaconda/envs/py35/lib/python3.5/asyncio/tasks.py\"</cite>,\\n      line <em class=\"line\">239</em>,\\n      in <code class=\"function\">_step</code></h4>\\n  <div class=\"source\"><pre class=\"line before\"><span class=\"ws\">        </span># Call either coro.throw(exc) or coro.send(None).</pre>\\n<pre class=\"line before\"><span class=\"ws\">        </span>try:</pre>\\n<pre class=\"line before\"><span class=\"ws\">            </span>if exc is None:</pre>\\n<pre class=\"line before\"><span class=\"ws\">                </span># We use the `send` method directly, because coroutines</pre>\\n<pre class=\"line before\"><span class=\"ws\">                </span># don\\'t have `__iter__` and `__next__` methods.</pre>\\n<pre class=\"line current\"><span class=\"ws\">                </span>result = coro.send(None)</pre>\\n<pre class=\"line after\"><span class=\"ws\">            </span>else:</pre>\\n<pre class=\"line after\"><span class=\"ws\">                </span>result = coro.throw(exc)</pre>\\n<pre class=\"line after\"><span class=\"ws\">        </span>except StopIteration as exc:</pre>\\n<pre class=\"line after\"><span class=\"ws\">            </span>self.set_result(exc.value)</pre>\\n<pre class=\"line after\"><span class=\"ws\">        </span>except futures.CancelledError as exc:</pre></div>\\n</div>\\n\\n<li><div class=\"frame\" id=\"frame-4395177240\">\\n  <h4>File <cite class=\"filename\">\"/Users/isadoranun/Documents/CS207/cs207project/timeseries/tsdb/tsdb_client.py\"</cite>,\\n      line <em class=\"line\">368</em>,\\n      in <code class=\"function\">_send_coro</code></h4>\\n  <div class=\"source\"><pre class=\"line before\"><span class=\"ws\">        </span>sleep_count = 0</pre>\\n<pre class=\"line before\"><span class=\"ws\">        </span>while not deserializer.ready():</pre>\\n<pre class=\"line before\"><span class=\"ws\">            </span>time.sleep(0.05)</pre>\\n<pre class=\"line before\"><span class=\"ws\">            </span>sleep_count += 1</pre>\\n<pre class=\"line before\"><span class=\"ws\">            </span>if sleep_count &gt; 30:</pre>\\n<pre class=\"line current\"><span class=\"ws\">                </span>raise TimeoutError</pre>\\n<pre class=\"line after\"><span class=\"ws\"></span> </pre>\\n<pre class=\"line after\"><span class=\"ws\">        </span>data_json = deserializer.deserialize()</pre>\\n<pre class=\"line after\"><span class=\"ws\">        </span>status = data_json[&quot;status&quot;]</pre>\\n<pre class=\"line after\"><span class=\"ws\">        </span>payload = data_json[&quot;payload&quot;]</pre>\\n<pre class=\"line after\"><span class=\"ws\">        </span>if payload is not None:</pre></div>\\n</div>\\n</ul>\\n  <blockquote>TimeoutError</blockquote>\\n</div>\\n\\n<div class=\"plain\">\\n  <form action=\"/?__debugger__=yes&amp;cmd=paste\" method=\"post\">\\n    <p>\\n      <input type=\"hidden\" name=\"language\" value=\"pytb\">\\n      This is the Copy/Paste friendly version of the traceback.  <span\\n      class=\"pastemessage\">You can also paste this traceback into\\n      a <a href=\"https://gist.github.com/\">gist</a>:\\n      <input type=\"submit\" value=\"create paste\"></span>\\n    </p>\\n    <textarea cols=\"50\" rows=\"10\" name=\"code\" readonly>Traceback (most recent call last):\\n  File \"/Users/isadoranun/anaconda/envs/py35/lib/python3.5/site-packages/flask/app.py\", line 1836, in __call__\\n    return self.wsgi_app(environ, start_response)\\n  File \"/Users/isadoranun/anaconda/envs/py35/lib/python3.5/site-packages/flask/app.py\", line 1820, in wsgi_app\\n    response = self.make_response(self.handle_exception(e))\\n  File \"/Users/isadoranun/anaconda/envs/py35/lib/python3.5/site-packages/flask/app.py\", line 1403, in handle_exception\\n    reraise(exc_type, exc_value, tb)\\n  File \"/Users/isadoranun/anaconda/envs/py35/lib/python3.5/site-packages/flask/_compat.py\", line 33, in reraise\\n    raise value\\n  File \"/Users/isadoranun/anaconda/envs/py35/lib/python3.5/site-packages/flask/app.py\", line 1817, in wsgi_app\\n    response = self.full_dispatch_request()\\n  File \"/Users/isadoranun/anaconda/envs/py35/lib/python3.5/site-packages/flask/app.py\", line 1477, in full_dispatch_request\\n    rv = self.handle_user_exception(e)\\n  File \"/Users/isadoranun/anaconda/envs/py35/lib/python3.5/site-packages/flask/app.py\", line 1381, in handle_user_exception\\n    reraise(exc_type, exc_value, tb)\\n  File \"/Users/isadoranun/anaconda/envs/py35/lib/python3.5/site-packages/flask/_compat.py\", line 33, in reraise\\n    raise value\\n  File \"/Users/isadoranun/anaconda/envs/py35/lib/python3.5/site-packages/flask/app.py\", line 1475, in full_dispatch_request\\n    rv = self.dispatch_request()\\n  File \"/Users/isadoranun/anaconda/envs/py35/lib/python3.5/site-packages/flask/app.py\", line 1461, in dispatch_request\\n    return self.view_functions[rule.endpoint](**req.view_args)\\n  File \"/Users/isadoranun/Documents/CS207/cs207project/timeseries/tsdb/tsdb_httpServer.py\", line 99, in augmented_select\\n    _, result = client.augmented_select(proc, target, arg, md, additional)\\n  File \"/Users/isadoranun/Documents/CS207/cs207project/timeseries/tsdb/tsdb_client.py\", line 164, in augmented_select\\n    return self._send(msg)\\n  File \"/Users/isadoranun/Documents/CS207/cs207project/timeseries/tsdb/tsdb_client.py\", line 405, in _send\\n    loop.run_until_complete(coro)\\n  File \"/Users/isadoranun/anaconda/envs/py35/lib/python3.5/asyncio/base_events.py\", line 337, in run_until_complete\\n    return future.result()\\n  File \"/Users/isadoranun/anaconda/envs/py35/lib/python3.5/asyncio/futures.py\", line 274, in result\\n    raise self._exception\\n  File \"/Users/isadoranun/anaconda/envs/py35/lib/python3.5/asyncio/tasks.py\", line 239, in _step\\n    result = coro.send(None)\\n  File \"/Users/isadoranun/Documents/CS207/cs207project/timeseries/tsdb/tsdb_client.py\", line 368, in _send_coro\\n    raise TimeoutError\\nTimeoutError</textarea>\\n  </form>\\n</div>\\n<div class=\"explanation\">\\n  The debugger caught an exception in your WSGI application.  You can now\\n  look at the traceback which led to the error.  <span class=\"nojavascript\">\\n  If you enable JavaScript you can also use additional features such as code\\n  execution (if the evalex feature is enabled), automatic pasting of the\\n  exceptions and much more.</span>\\n</div>\\n      <div class=\"footer\">\\n        Brought to you by <strong class=\"arthur\">DON\\'T PANIC</strong>, your\\n        friendly Werkzeug powered traceback interpreter.\\n      </div>\\n    </div>\\n\\n    <div class=\"pin-prompt\">\\n      <div class=\"inner\">\\n        <h3>Console Locked</h3>\\n        <p>\\n          The console is locked and needs to be unlocked by entering the PIN.\\n          You can find the PIN printed out on the standard output of your\\n          shell that runs the server.\\n        <form>\\n          <p>PIN:\\n            <input type=text name=pin size=14>\\n            <input type=submit name=btn value=\"Confirm Pin\">\\n        </form>\\n      </div>\\n    </div>\\n  </body>\\n</html>\\n\\n<!--\\n\\nTraceback (most recent call last):\\n  File \"/Users/isadoranun/anaconda/envs/py35/lib/python3.5/site-packages/flask/app.py\", line 1836, in __call__\\n    return self.wsgi_app(environ, start_response)\\n  File \"/Users/isadoranun/anaconda/envs/py35/lib/python3.5/site-packages/flask/app.py\", line 1820, in wsgi_app\\n    response = self.make_response(self.handle_exception(e))\\n  File \"/Users/isadoranun/anaconda/envs/py35/lib/python3.5/site-packages/flask/app.py\", line 1403, in handle_exception\\n    reraise(exc_type, exc_value, tb)\\n  File \"/Users/isadoranun/anaconda/envs/py35/lib/python3.5/site-packages/flask/_compat.py\", line 33, in reraise\\n    raise value\\n  File \"/Users/isadoranun/anaconda/envs/py35/lib/python3.5/site-packages/flask/app.py\", line 1817, in wsgi_app\\n    response = self.full_dispatch_request()\\n  File \"/Users/isadoranun/anaconda/envs/py35/lib/python3.5/site-packages/flask/app.py\", line 1477, in full_dispatch_request\\n    rv = self.handle_user_exception(e)\\n  File \"/Users/isadoranun/anaconda/envs/py35/lib/python3.5/site-packages/flask/app.py\", line 1381, in handle_user_exception\\n    reraise(exc_type, exc_value, tb)\\n  File \"/Users/isadoranun/anaconda/envs/py35/lib/python3.5/site-packages/flask/_compat.py\", line 33, in reraise\\n    raise value\\n  File \"/Users/isadoranun/anaconda/envs/py35/lib/python3.5/site-packages/flask/app.py\", line 1475, in full_dispatch_request\\n    rv = self.dispatch_request()\\n  File \"/Users/isadoranun/anaconda/envs/py35/lib/python3.5/site-packages/flask/app.py\", line 1461, in dispatch_request\\n    return self.view_functions[rule.endpoint](**req.view_args)\\n  File \"/Users/isadoranun/Documents/CS207/cs207project/timeseries/tsdb/tsdb_httpServer.py\", line 99, in augmented_select\\n    _, result = client.augmented_select(proc, target, arg, md, additional)\\n  File \"/Users/isadoranun/Documents/CS207/cs207project/timeseries/tsdb/tsdb_client.py\", line 164, in augmented_select\\n    return self._send(msg)\\n  File \"/Users/isadoranun/Documents/CS207/cs207project/timeseries/tsdb/tsdb_client.py\", line 405, in _send\\n    loop.run_until_complete(coro)\\n  File \"/Users/isadoranun/anaconda/envs/py35/lib/python3.5/asyncio/base_events.py\", line 337, in run_until_complete\\n    return future.result()\\n  File \"/Users/isadoranun/anaconda/envs/py35/lib/python3.5/asyncio/futures.py\", line 274, in result\\n    raise self._exception\\n  File \"/Users/isadoranun/anaconda/envs/py35/lib/python3.5/asyncio/tasks.py\", line 239, in _step\\n    result = coro.send(None)\\n  File \"/Users/isadoranun/Documents/CS207/cs207project/timeseries/tsdb/tsdb_client.py\", line 368, in _send_coro\\n    raise TimeoutError\\nTimeoutError\\n\\n-->\\n'"
      ]
     },
     "execution_count": 148,
     "metadata": {},
     "output_type": "execute_result"
    }
   ],
   "source": [
    "r = requests.post('http://127.0.0.1:5000/augmented_select', json = augmented_data)\n",
    "# print (r.text)\n",
    "r.text"
   ]
  },
  {
   "cell_type": "markdown",
   "metadata": {},
   "source": [
    "## Delete ts"
   ]
  },
  {
   "cell_type": "code",
   "execution_count": 29,
   "metadata": {
    "collapsed": false
   },
   "outputs": [
    {
     "data": {
      "text/plain": [
       "<Response [500]>"
      ]
     },
     "execution_count": 29,
     "metadata": {},
     "output_type": "execute_result"
    }
   ],
   "source": [
    "requests.post('http://127.0.0.1:5000/delete', json = '1')"
   ]
  },
  {
   "cell_type": "code",
   "execution_count": 32,
   "metadata": {
    "collapsed": false
   },
   "outputs": [],
   "source": [
    "r = requests.get('http://127.0.0.1:5000/select', auth=('user', 'pass'))"
   ]
  },
  {
   "cell_type": "code",
   "execution_count": 33,
   "metadata": {
    "collapsed": false
   },
   "outputs": [
    {
     "data": {
      "text/plain": [
       "'<pre>{}</pre>'"
      ]
     },
     "execution_count": 33,
     "metadata": {},
     "output_type": "execute_result"
    }
   ],
   "source": [
    "r.text"
   ]
  },
  {
   "cell_type": "markdown",
   "metadata": {},
   "source": [
    "## Find similar"
   ]
  },
  {
   "cell_type": "code",
   "execution_count": 16,
   "metadata": {
    "collapsed": false
   },
   "outputs": [],
   "source": [
    "values = np.random.randint(1,100,100)\n",
    "times = np.arange(1,101)\n",
    "k_nearest = 3"
   ]
  },
  {
   "cell_type": "code",
   "execution_count": 17,
   "metadata": {
    "collapsed": false
   },
   "outputs": [
    {
     "data": {
      "text/plain": [
       "'{\"k_nearest\": 3, \"values\": [55, 57, 50, 76, 42, 87, 43, 98, 4, 55, 38, 68, 48, 5, 82, 9, 16, 50, 59, 81, 11, 7, 83, 64, 71, 73, 76, 26, 93, 13, 33, 40, 65, 18, 16, 81, 5, 24, 93, 33, 32, 75, 18, 65, 56, 87, 27, 29, 95, 96, 2, 98, 89, 9, 96, 38, 17, 99, 93, 81, 14, 68, 50, 69, 90, 13, 55, 85, 88, 75, 9, 40, 97, 81, 72, 64, 16, 4, 79, 49, 13, 40, 40, 24, 85, 38, 71, 30, 72, 23, 22, 41, 98, 68, 62, 20, 15, 9, 66, 83], \"times\": [1, 2, 3, 4, 5, 6, 7, 8, 9, 10, 11, 12, 13, 14, 15, 16, 17, 18, 19, 20, 21, 22, 23, 24, 25, 26, 27, 28, 29, 30, 31, 32, 33, 34, 35, 36, 37, 38, 39, 40, 41, 42, 43, 44, 45, 46, 47, 48, 49, 50, 51, 52, 53, 54, 55, 56, 57, 58, 59, 60, 61, 62, 63, 64, 65, 66, 67, 68, 69, 70, 71, 72, 73, 74, 75, 76, 77, 78, 79, 80, 81, 82, 83, 84, 85, 86, 87, 88, 89, 90, 91, 92, 93, 94, 95, 96, 97, 98, 99, 100]}'"
      ]
     },
     "execution_count": 17,
     "metadata": {},
     "output_type": "execute_result"
    }
   ],
   "source": [
    "ts =  {'times': times.tolist(), 'values': values.tolist(), 'k_nearest':k_nearest}\n",
    "\n",
    "#  db.upsert_meta('one', {'order': 1, 'blarg': 1})\n",
    "# print(meta)\n",
    "ts_a = io.StringIO()\n",
    "json.dump( ts, fp=ts_a)\n",
    "ts_a.getvalue()\n"
   ]
  },
  {
   "cell_type": "code",
   "execution_count": 18,
   "metadata": {
    "collapsed": false
   },
   "outputs": [],
   "source": [
    "r = requests.post('http://127.0.0.1:5000/find_similar', json = ts_a.getvalue())"
   ]
  },
  {
   "cell_type": "code",
   "execution_count": 23,
   "metadata": {
    "collapsed": false
   },
   "outputs": [
    {
     "data": {
      "text/plain": [
       "3"
      ]
     },
     "execution_count": 23,
     "metadata": {},
     "output_type": "execute_result"
    }
   ],
   "source": [
    "len(json.loads(r.text))"
   ]
  },
  {
   "cell_type": "code",
   "execution_count": null,
   "metadata": {
    "collapsed": true
   },
   "outputs": [],
   "source": []
  }
 ],
 "metadata": {
  "kernelspec": {
   "display_name": "Python 3",
   "language": "python",
   "name": "python3"
  },
  "language_info": {
   "codemirror_mode": {
    "name": "ipython",
    "version": 3
   },
   "file_extension": ".py",
   "mimetype": "text/x-python",
   "name": "python",
   "nbconvert_exporter": "python",
   "pygments_lexer": "ipython3",
   "version": "3.5.1"
  }
 },
 "nbformat": 4,
 "nbformat_minor": 0
}
