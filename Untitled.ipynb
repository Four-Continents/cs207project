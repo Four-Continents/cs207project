{
 "cells": [
  {
   "cell_type": "code",
   "execution_count": 73,
   "metadata": {
    "collapsed": false
   },
   "outputs": [
    {
     "ename": "SyntaxError",
     "evalue": "unexpected EOF while parsing (<ipython-input-73-6886260098aa>, line 174)",
     "output_type": "error",
     "traceback": [
      "\u001b[0;36m  File \u001b[0;32m\"<ipython-input-73-6886260098aa>\"\u001b[0;36m, line \u001b[0;32m174\u001b[0m\n\u001b[0;31m    #             raise TypeError(msg)\u001b[0m\n\u001b[0m                                      ^\u001b[0m\n\u001b[0;31mSyntaxError\u001b[0m\u001b[0;31m:\u001b[0m unexpected EOF while parsing\n"
     ]
    }
   ],
   "source": [
    "import reprlib\n",
    "import numpy as np\n",
    "from doctest import run_docstring_examples as dtest\n",
    "import numbers\n",
    "\n",
    "\n",
    "class TimeSeries(object):\n",
    "    \"\"\"\n",
    "    A class which stores a single ordered sequence of numerical data, and supports lookup and modification operations\n",
    "    on the data.\n",
    "\n",
    "    Examples\n",
    "    --------\n",
    "    >>> A = TimeSeries()\n",
    "    Traceback (most recent call last):\n",
    "        ...\n",
    "    TypeError: __init__() missing 1 required positional argument: 'data'\n",
    "    >>> B = TimeSeries(1)\n",
    "    Traceback (most recent call last):\n",
    "        ...\n",
    "    TypeError: parameter must be a sequence\n",
    "    >>> C = TimeSeries('hello')\n",
    "    Traceback (most recent call last):\n",
    "        ...\n",
    "    TypeError: iterable must contain numerical types\n",
    "    >>> a = TimeSeries(range(0,1000000))\n",
    "    >>> a\n",
    "    [0, 1, 2, 3, 4, 5, ...]\n",
    "    >>> print(a)\n",
    "    [0, 1, 2, 3, 4, 5, ...]\n",
    "    >>> len(a)\n",
    "    1000000\n",
    "    >>> a[6] = 100\n",
    "    >>> a[6]\n",
    "    100\n",
    "    >>> a[0:3]\n",
    "    [0, 1, 2]\n",
    "    \"\"\"\n",
    "    def __init__(self, times, values):\n",
    "        \"\"\"\n",
    "        Constructor for the TimeSeries class.\n",
    "\n",
    "        Parameters\n",
    "        ----------\n",
    "        data: sequence\n",
    "            The ordered sequence of data points.\n",
    "            \n",
    "        Raises\n",
    "        ------\n",
    "        TypeError\n",
    "            Raises the error if the input data is not a sequence or if it contains any type that is not numerical  \n",
    "        \"\"\"\n",
    "        \n",
    "        def CheckNumpy(data):\n",
    "\n",
    "            if not hasattr(data, '__len__') and not hasattr(data, '__getitem__') and not hasattr(self._data, '__array_interface__') and not \\\n",
    "                hasattr(self._data, '__array__'):\n",
    "                msg = 'Passed in parameter must be an array, any object exposing the array interface, an object whose ' \\\n",
    "                  '__array__ method returns an array, or any (nested) sequence.'\n",
    "                raise TypeError(msg)\n",
    "\n",
    "            for item in data:\n",
    "                if not isinstance(item, numbers.Number):\n",
    "                    msg = 'iterable must contain numerical types'\n",
    "                    raise TypeError(msg)\n",
    "\n",
    "        \n",
    "            return np.array(data)\n",
    "\n",
    "\n",
    "        self._times = CheckNumpy(times)\n",
    "        self._values = CheckNumpy(values)\n",
    "\n",
    "    def __iter__(self):\n",
    "        \"\"\"\n",
    "        Yields a generator for the entire iterable\n",
    "\n",
    "        Returns\n",
    "        -------\n",
    "        Generator\n",
    "        \"\"\"\n",
    "        for x in self._data:\n",
    "            yield x\n",
    "            \n",
    "\n",
    "\n",
    "    def __len__(self):\n",
    "        \"\"\"\n",
    "        Returns the length of the iterable or sequence\n",
    "\n",
    "        Returns\n",
    "        -------\n",
    "        int\n",
    "        \"\"\"\n",
    "        return len(self._data)\n",
    "    \n",
    "    \n",
    "\n",
    "    def __getitem__(self, index):\n",
    "        \"\"\"\n",
    "        Getter for the class - used to retrieve individual values in the TimeSeries based on the index provided\n",
    "\n",
    "        Parameters\n",
    "        ----------\n",
    "        index : int\n",
    "\n",
    "        Returns\n",
    "        -------\n",
    "        float\n",
    "            Returns the value at the given index\n",
    "        \"\"\"\n",
    "\n",
    "        #Numpy style\n",
    "#         position = np.where(self._times == index)[0]\n",
    "        \n",
    "#         if len(position) == 0:\n",
    "#             msg = \"The index you are providing does not exist. Please enter a valid time index.\"\n",
    "#             raise TypeError(msg)\n",
    "#         else:\n",
    "#             return self._values[position]\n",
    "            \n",
    "\n",
    "#         position = 'NaN'\n",
    "        \n",
    "#         for t in self._times:\n",
    "#             if t == index:\n",
    "#                 position = t\n",
    "      \n",
    "#         if position is 'NaN':\n",
    "#             msg = \"The index you are providing does not exist. Please enter a valid time index.\"\n",
    "#             raise TypeError(msg)\n",
    "#         else:    \n",
    "#             return self._values[position]\n",
    "    \n",
    "\n",
    "\n",
    "    def __setitem__(self, index, value):\n",
    "        \"\"\"\n",
    "        Setter for the class - used to modify individual values in the TimeSeries\n",
    "\n",
    "        Parameters\n",
    "        ----------\n",
    "        index : int\n",
    "    \n",
    "        value : float\n",
    "        \"\"\"\n",
    "        \n",
    "#         position = 'NaN'\n",
    "        \n",
    "#         for t in self._times:\n",
    "#             if t == index:\n",
    "#                 position = t\n",
    "        \n",
    "#         if position is 'NaN':\n",
    "#             msg = \"The index you are providing does not exist. Please enter a valid time index.\"\n",
    "#             raise TypeError(msg)\n",
    "#         else:\n",
    "#             self._values[position] = value\n",
    "            \n",
    "    def __contains__(self, index):\n",
    "        \n",
    "#         flag = False\n",
    "        \n",
    "#         for t in self._times:\n",
    "#         if t == index:\n",
    "#             flag = True\n",
    "        \n",
    "#         return flag\n",
    "\n",
    "            \n",
    "# Numpy style\n",
    "#         try:\n",
    "#             position = np.where(self._times == index)\n",
    "#         except:\n",
    "#             msg = \"The index you are providing does not exist. Please enter a valid time index.\"\n",
    "#             raise TypeError(msg)"
   ]
  },
  {
   "cell_type": "code",
   "execution_count": 203,
   "metadata": {
    "collapsed": false
   },
   "outputs": [],
   "source": [
    "import reprlib\n",
    "import numpy as np\n",
    "from doctest import run_docstring_examples as dtest\n",
    "import numbers\n",
    "\n",
    "\n",
    "class TimeSeries(object):\n",
    "    \"\"\"\n",
    "    A class which stores a single ordered sequence of numerical data, and supports lookup and modification operations\n",
    "    on the data.\n",
    "\n",
    "    Examples\n",
    "    --------\n",
    "    >>> A = TimeSeries()\n",
    "    Traceback (most recent call last):\n",
    "        ...\n",
    "    TypeError: __init__() missing 1 required positional argument: 'data'\n",
    "    >>> B = TimeSeries(1)\n",
    "    Traceback (most recent call last):\n",
    "        ...\n",
    "    TypeError: parameter must be a sequence\n",
    "    >>> C = TimeSeries('hello')\n",
    "    Traceback (most recent call last):\n",
    "        ...\n",
    "    TypeError: iterable must contain numerical types\n",
    "    >>> a = TimeSeries(range(0,1000000))\n",
    "    >>> a\n",
    "    [0, 1, 2, 3, 4, 5, ...]\n",
    "    >>> print(a)\n",
    "    [0, 1, 2, 3, 4, 5, ...]\n",
    "    >>> len(a)\n",
    "    1000000\n",
    "    >>> a[6] = 100\n",
    "    >>> a[6]\n",
    "    100\n",
    "    >>> a[0:3]\n",
    "    [0, 1, 2]\n",
    "    \"\"\"\n",
    "    def __init__(self, times, values):\n",
    "        \"\"\"\n",
    "        Constructor for the TimeSeries class.\n",
    "\n",
    "        Parameters\n",
    "        ----------\n",
    "        data: sequence\n",
    "            The ordered sequence of data points.\n",
    "            \n",
    "        Raises\n",
    "        ------\n",
    "        TypeError\n",
    "            Raises the error if the input data is not a sequence or if it contains any type that is not numerical  \n",
    "        \"\"\"\n",
    "        \n",
    "        def CheckNumpy(data):\n",
    "\n",
    "            if not hasattr(data, '__len__') and not hasattr(data, '__getitem__') and not hasattr(self._data, '__array_interface__') and not \\\n",
    "                hasattr(self._data, '__array__'):\n",
    "                msg = 'Passed in parameter must be an array, any object exposing the array interface, an object whose ' \\\n",
    "                  '__array__ method returns an array, or any (nested) sequence.'\n",
    "                raise TypeError(msg)\n",
    "\n",
    "            for item in data:\n",
    "                if not isinstance(item, numbers.Number):\n",
    "                    msg = 'iterable must contain numerical types'\n",
    "                    raise TypeError(msg)\n",
    "\n",
    "            return np.array(data)\n",
    "\n",
    "\n",
    "        self._times = CheckNumpy(times)\n",
    "        self._values = CheckNumpy(values)\n",
    "\n",
    "    def __iter__(self):\n",
    "        \"\"\"\n",
    "        Yields a generator for the entire iterable\n",
    "\n",
    "        Returns\n",
    "        -------\n",
    "        Generator\n",
    "        \"\"\"\n",
    "        for x in self._values:\n",
    "            yield x\n",
    "            \n",
    "\n",
    "\n",
    "    def __len__(self):\n",
    "        \"\"\"\n",
    "        Returns the length of the iterable or sequence\n",
    "\n",
    "        Returns\n",
    "        -------\n",
    "        int\n",
    "        \"\"\"        \n",
    "        return len(self._times)\n",
    "    \n",
    "    \n",
    "\n",
    "    def __getitem__(self, index):\n",
    "        \"\"\"\n",
    "        Getter for the class - used to retrieve individual values in the TimeSeries based on the time provided\n",
    "\n",
    "        Parameters\n",
    "        ----------\n",
    "        index : int\n",
    "\n",
    "        Returns\n",
    "        -------\n",
    "        float\n",
    "            Returns the value at the given time point\n",
    "        \"\"\"\n",
    "\n",
    "        position = np.where(self._times == index)[0]\n",
    "        \n",
    "        if len(position) == 0:\n",
    "            msg = \"The index you are providing does not exist. Please enter a valid time index.\"\n",
    "            raise TypeError(msg)\n",
    "        else:\n",
    "            return self._values[position]\n",
    "\n",
    "\n",
    "\n",
    "    def __setitem__(self, index, value):\n",
    "        \"\"\"\n",
    "        Setter for the class - used to modify individual values in the TimeSeries given a particular time point\n",
    "\n",
    "        Parameters\n",
    "        ----------\n",
    "        index : int\n",
    "    \n",
    "        value : float\n",
    "        \"\"\"\n",
    "        \n",
    "        position = np.where(self._times == index)[0]\n",
    "        \n",
    "        if len(position) == 0:\n",
    "            msg = \"The index you are providing does not exist. Please enter a valid time index.\"\n",
    "            raise TypeError(msg)\n",
    "        else:\n",
    "            self._values[position] = value\n",
    "\n",
    "\n",
    "    def __contains__(self, index):\n",
    "        \n",
    "        position = np.where(self._times == index)[0]\n",
    "        \n",
    "        if len(position) == 0:\n",
    "            return False\n",
    "        else:\n",
    "            return True\n",
    "\n",
    "        \n",
    "#     def __repr__(self):\n",
    "#         \"\"\"\n",
    "#         Returns\n",
    "#         -------\n",
    "#         string\n",
    "#             A string representation of the sequence data. Truncates longer sequences using the reprlib library.\n",
    "#         \"\"\"\n",
    "#         return reprlib.repr(self._data)\n",
    "\n",
    "    def __str__(self):\n",
    "        \"\"\"\n",
    "        Returns\n",
    "        -------\n",
    "        string\n",
    "            A string representation of the sequence data. Truncates longer sequences using the reprlib library.\n",
    "        \"\"\"\n",
    "        return self._times\n",
    "    \n",
    "    def values(self):\n",
    "        \n",
    "        return self._values\n",
    "    \n",
    "    def times(self):\n",
    "        \n",
    "        return reprlib.repr(self._times)\n",
    "    \n",
    "    def items(self):\n",
    "        \n",
    "        return zip(times, values)\n",
    "\n",
    "\n",
    "class ArrayTimeSeries(TimeSeries):\n",
    "    \"\"\"\n",
    "    Examples\n",
    "    --------\n",
    "    >>> C = ArrayTimeSeries('hello')\n",
    "    Traceback (most recent call last):\n",
    "        ...\n",
    "    TypeError: iterable must contain numerical types\n",
    "    >>> A = ArrayTimeSeries()\n",
    "    Traceback (most recent call last):\n",
    "    ...\n",
    "    TypeError: __init__() missing 1 required positional argument: 'data'\n",
    "    >>> B = ArrayTimeSeries(1)\n",
    "    Traceback (most recent call last):\n",
    "        ...\n",
    "    TypeError: parameter must be a sequence\n",
    "    >>> a = ArrayTimeSeries(range(0,1000000))\n",
    "    >>> a\n",
    "    array([     0...9998, 999999])\n",
    "    >>> print(a)\n",
    "    array([     0...9998, 999999])\n",
    "    >>> len(a)\n",
    "    1000000\n",
    "    >>> a[6] = 100\n",
    "    >>> a[6]\n",
    "    100\n",
    "    \"\"\"\n",
    "    def __init__(self, data):\n",
    "        \"\"\"\n",
    "        Constructor for the ArrayTimeSeries class.\n",
    "\n",
    "        Parameters\n",
    "        ----------\n",
    "        data: iterable\n",
    "            The ordered sequence of data points.\n",
    "            \n",
    "        Raises\n",
    "        ------\n",
    "        TypeError\n",
    "            Raises the error if the input data is not an iterable  \n",
    "        \"\"\"\n",
    "        super().__init__(data)\n",
    "\n",
    "        if not hasattr(self._data, '__len__') and not hasattr(self._data, '__array_interface__') and not \\\n",
    "                hasattr(self._data, '__array__'):\n",
    "            msg = 'Passed in parameter must be an array, any object exposing the array interface, an object whose ' \\\n",
    "                  '__array__ method returns an array, or any (nested) sequence.'\n",
    "            raise TypeError(msg)\n",
    "\n",
    "        self._data = np.array(self._data)\n",
    "\n",
    "\n"
   ]
  },
  {
   "cell_type": "code",
   "execution_count": 204,
   "metadata": {
    "collapsed": false
   },
   "outputs": [],
   "source": [
    "a = TimeSeries([1, 1.5, 2, 2.5, 10], [0, 2, -1, 0.5, 0])"
   ]
  },
  {
   "cell_type": "code",
   "execution_count": 209,
   "metadata": {
    "collapsed": false
   },
   "outputs": [
    {
     "data": {
      "text/plain": [
       "array(<zip object at 0x103ed0748>, dtype=object)"
      ]
     },
     "execution_count": 209,
     "metadata": {},
     "output_type": "execute_result"
    }
   ],
   "source": [
    "np.array(a.items())"
   ]
  },
  {
   "cell_type": "code",
   "execution_count": 210,
   "metadata": {
    "collapsed": false
   },
   "outputs": [],
   "source": [
    "a = TimeSeries([1, 1.5, 2, 2.5, 10], [0, 2, -1, 0.5, 0])\n",
    "# Set the value at time 2.5\n",
    "times = np.array([1, 1.5, 2, 2.5, 10])\n",
    "values = np.array([0, 2, -1, 0.5, 0])"
   ]
  },
  {
   "cell_type": "code",
   "execution_count": 214,
   "metadata": {
    "collapsed": false
   },
   "outputs": [
    {
     "data": {
      "text/plain": [
       "<zip at 0x105c44b48>"
      ]
     },
     "execution_count": 214,
     "metadata": {},
     "output_type": "execute_result"
    }
   ],
   "source": [
    "zip(times, values)"
   ]
  },
  {
   "cell_type": "code",
   "execution_count": 217,
   "metadata": {
    "collapsed": false
   },
   "outputs": [
    {
     "data": {
      "text/plain": [
       "<zip at 0x105d038c8>"
      ]
     },
     "execution_count": 217,
     "metadata": {},
     "output_type": "execute_result"
    }
   ],
   "source": [
    "zip(values, times)"
   ]
  },
  {
   "cell_type": "code",
   "execution_count": 97,
   "metadata": {
    "collapsed": false
   },
   "outputs": [
    {
     "name": "stdout",
     "output_type": "stream",
     "text": [
      "1\n",
      "[]\n"
     ]
    }
   ],
   "source": [
    "position = np.where(times == 7)\n",
    "\n",
    "print(len(position))\n",
    "\n",
    "if len(position) == 0:\n",
    "    msg = \"The index you are providing does not exist. Please enter a valid time index.\"\n",
    "    raise TypeError(msg)\n",
    "else:\n",
    "    print(values[position])\n",
    "\n"
   ]
  },
  {
   "cell_type": "code",
   "execution_count": 111,
   "metadata": {
    "collapsed": false
   },
   "outputs": [],
   "source": [
    "b = np.array([1, 1.5, 2, 2.5, 10])"
   ]
  },
  {
   "cell_type": "code",
   "execution_count": 112,
   "metadata": {
    "collapsed": false
   },
   "outputs": [
    {
     "data": {
      "text/plain": [
       "0"
      ]
     },
     "execution_count": 112,
     "metadata": {},
     "output_type": "execute_result"
    }
   ],
   "source": [
    "len(np.where(b==0)[0])"
   ]
  },
  {
   "cell_type": "code",
   "execution_count": 113,
   "metadata": {
    "collapsed": false
   },
   "outputs": [
    {
     "data": {
      "text/plain": [
       "1"
      ]
     },
     "execution_count": 113,
     "metadata": {},
     "output_type": "execute_result"
    }
   ],
   "source": [
    "len(np.where(b==1)[0])"
   ]
  },
  {
   "cell_type": "code",
   "execution_count": null,
   "metadata": {
    "collapsed": true
   },
   "outputs": [],
   "source": []
  },
  {
   "cell_type": "code",
   "execution_count": 102,
   "metadata": {
    "collapsed": false
   },
   "outputs": [
    {
     "ename": "NameError",
     "evalue": "name 's' is not defined",
     "output_type": "error",
     "traceback": [
      "\u001b[0;31m---------------------------------------------------------------------------\u001b[0m",
      "\u001b[0;31mNameError\u001b[0m                                 Traceback (most recent call last)",
      "\u001b[0;32m<ipython-input-102-f4d5d0c0671b>\u001b[0m in \u001b[0;36m<module>\u001b[0;34m()\u001b[0m\n\u001b[0;32m----> 1\u001b[0;31m \u001b[0ms\u001b[0m\u001b[0;34m\u001b[0m\u001b[0m\n\u001b[0m",
      "\u001b[0;31mNameError\u001b[0m: name 's' is not defined"
     ]
    }
   ],
   "source": [
    "s"
   ]
  },
  {
   "cell_type": "code",
   "execution_count": null,
   "metadata": {
    "collapsed": true
   },
   "outputs": [],
   "source": []
  }
 ],
 "metadata": {
  "kernelspec": {
   "display_name": "Python 3",
   "language": "python",
   "name": "python3"
  },
  "language_info": {
   "codemirror_mode": {
    "name": "ipython",
    "version": 3
   },
   "file_extension": ".py",
   "mimetype": "text/x-python",
   "name": "python",
   "nbconvert_exporter": "python",
   "pygments_lexer": "ipython3",
   "version": "3.5.1"
  }
 },
 "nbformat": 4,
 "nbformat_minor": 0
}
