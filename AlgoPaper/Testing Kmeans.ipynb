{
 "cells": [
  {
   "cell_type": "markdown",
   "metadata": {},
   "source": [
    "## Naive Implementation"
   ]
  },
  {
   "cell_type": "code",
   "execution_count": 1,
   "metadata": {
    "collapsed": false
   },
   "outputs": [],
   "source": [
    "import random\n",
    "import numpy as np\n",
    "import matplotlib.pyplot as plt\n",
    "\n",
    "def cluster(X, mu):\n",
    "    clusters  = {}\n",
    "    for x in X:\n",
    "        best_mu = min([(i[0], np.linalg.norm(x-mu[i[0]])) \\\n",
    "                    for i in enumerate(mu)], key=lambda t:t[1])[0]\n",
    "        try:\n",
    "            clusters[best_mu].append(x)\n",
    "        except KeyError:\n",
    "            clusters[best_mu] = [x]\n",
    "    return clusters\n",
    "\n",
    "def update(mu, clusters):\n",
    "    newmu = []\n",
    "    keys = sorted(clusters.keys())\n",
    "    for k in keys:\n",
    "        newmu.append(np.mean(clusters[k], axis = 0))\n",
    "    return newmu\n",
    " \n",
    "def converged(mu, oldmu):\n",
    "    # The algorith converge when the centroids stop moving \n",
    "    return (set([tuple(a) for a in mu]) == set([tuple(a) for a in oldmu]))\n",
    "            \n",
    "def Kmeans_imp(X, K):\n",
    "    iterations= 0\n",
    "    loss=[]\n",
    "    # Initialize to K random centers\n",
    "    oldmu = random.sample(X, K)\n",
    "    mu = random.sample(X, K)\n",
    "    while not converged(mu, oldmu):\n",
    "        oldmu = mu\n",
    "        # Assign all points in X to clusters\n",
    "        clusters= cluster(X, mu)\n",
    "        # Reevaluate centers\n",
    "        mu = update(oldmu, clusters)\n",
    "        iterations+=1\n",
    "    return(mu, clusters, iterations,loss)\n",
    " "
   ]
  },
  {
   "cell_type": "markdown",
   "metadata": {},
   "source": [
    "### Test 1 "
   ]
  },
  {
   "cell_type": "code",
   "execution_count": 2,
   "metadata": {
    "collapsed": false
   },
   "outputs": [],
   "source": [
    "from sklearn import datasets\n",
    "iris = datasets.load_iris()\n",
    "X_iris = iris.data\n",
    "y_iris = iris.target"
   ]
  },
  {
   "cell_type": "code",
   "execution_count": 3,
   "metadata": {
    "collapsed": false
   },
   "outputs": [
    {
     "name": "stdout",
     "output_type": "stream",
     "text": [
      "CPU times: user 3 µs, sys: 1 µs, total: 4 µs\n",
      "Wall time: 6.91 µs\n",
      "--- 0.0200338363647 seconds ---\n"
     ]
    }
   ],
   "source": [
    "import time\n",
    "%time\n",
    "\n",
    "start_time=time.time()\n",
    "k_means,clusters,it,loss = Kmeans_imp(X_iris,3)\n",
    "\n",
    "print(\"--- %s seconds ---\" % (time.time() - start_time))"
   ]
  },
  {
   "cell_type": "code",
   "execution_count": 4,
   "metadata": {
    "collapsed": false
   },
   "outputs": [
    {
     "name": "stdout",
     "output_type": "stream",
     "text": [
      "CPU times: user 3 µs, sys: 3 µs, total: 6 µs\n",
      "Wall time: 8.82 µs\n",
      "--- 0.0148909091949 seconds ---\n"
     ]
    }
   ],
   "source": [
    "%time\n",
    "from sklearn.cluster import KMeans\n",
    "\n",
    "start2=time.time()\n",
    "k_means = KMeans(n_clusters=3)\n",
    "k_means.fit(X_iris) \n",
    "\n",
    "print(\"--- %s seconds ---\" % (time.time() - start2))\n"
   ]
  },
  {
   "cell_type": "markdown",
   "metadata": {},
   "source": [
    "### TEST 2 (Main test used in paper)"
   ]
  },
  {
   "cell_type": "markdown",
   "metadata": {},
   "source": [
    "Example taken from:http://scikit-learn.org/stable/auto_examples/cluster/plot_mini_batch_kmeans.html"
   ]
  },
  {
   "cell_type": "code",
   "execution_count": 5,
   "metadata": {
    "collapsed": true
   },
   "outputs": [],
   "source": [
    "import time\n",
    "\n",
    "import numpy as np\n",
    "import matplotlib.pyplot as plt\n",
    "\n",
    "from sklearn.cluster import MiniBatchKMeans, KMeans\n",
    "from sklearn.metrics.pairwise import pairwise_distances_argmin\n",
    "from sklearn.datasets.samples_generator import make_blobs\n"
   ]
  },
  {
   "cell_type": "code",
   "execution_count": 6,
   "metadata": {
    "collapsed": false
   },
   "outputs": [],
   "source": [
    "# Generate sample data\n",
    "np.random.seed(0)\n",
    "\n",
    "batch_size = 45\n",
    "centers = [[1, 1], [-1, -1], [1, -1]]\n",
    "n_clusters = len(centers)\n",
    "X, labels_true = make_blobs(n_samples=3000, centers=centers, cluster_std=0.7)"
   ]
  },
  {
   "cell_type": "markdown",
   "metadata": {},
   "source": [
    "### Without it"
   ]
  },
  {
   "cell_type": "code",
   "execution_count": 7,
   "metadata": {
    "collapsed": false
   },
   "outputs": [
    {
     "name": "stdout",
     "output_type": "stream",
     "text": [
      "CPU times: user 2 µs, sys: 0 ns, total: 2 µs\n",
      "Wall time: 4.05 µs\n",
      "--- 0.0340631008148 seconds ---\n"
     ]
    }
   ],
   "source": [
    "%time \n",
    "# Compute clustering with Means\n",
    "k_means = KMeans(n_clusters=3, n_init=10)\n",
    "t0 = time.time()\n",
    "k_means.fit(X)\n",
    "t_batch = time.time() - t0\n",
    "k_means_labels = k_means.labels_\n",
    "k_means_cluster_centers = k_means.cluster_centers_\n",
    "k_means_labels_unique = np.unique(k_means_labels)\n",
    "\n",
    "print(\"--- %s seconds ---\" %t_batch)"
   ]
  },
  {
   "cell_type": "markdown",
   "metadata": {},
   "source": [
    "### With initialization method k-means++"
   ]
  },
  {
   "cell_type": "code",
   "execution_count": 8,
   "metadata": {
    "collapsed": false
   },
   "outputs": [
    {
     "name": "stdout",
     "output_type": "stream",
     "text": [
      "CPU times: user 2 µs, sys: 1 µs, total: 3 µs\n",
      "Wall time: 4.05 µs\n",
      "--- 0.0354688167572 seconds ---\n"
     ]
    }
   ],
   "source": [
    "%time \n",
    "# Compute clustering with Means\n",
    "k_means = KMeans(init='k-means++', n_clusters=3, n_init=10)\n",
    "t0 = time.time()\n",
    "k_means.fit(X)\n",
    "t_batch = time.time() - t0\n",
    "k_means_labels = k_means.labels_\n",
    "k_means_cluster_centers = k_means.cluster_centers_\n",
    "k_means_labels_unique = np.unique(k_means_labels)\n",
    "\n",
    "print(\"--- %s seconds ---\" %t_batch)\n"
   ]
  },
  {
   "cell_type": "markdown",
   "metadata": {},
   "source": [
    "### Mini Batch Kmeans"
   ]
  },
  {
   "cell_type": "code",
   "execution_count": 14,
   "metadata": {
    "collapsed": false
   },
   "outputs": [
    {
     "name": "stdout",
     "output_type": "stream",
     "text": [
      "CPU times: user 2 µs, sys: 0 ns, total: 2 µs\n",
      "Wall time: 12.2 µs\n",
      "--- 0.0184018611908 seconds ---\n"
     ]
    }
   ],
   "source": [
    "%time\n",
    "# Compute clustering with MiniBatchKMeans\n",
    "mbk = MiniBatchKMeans(init='k-means++', n_clusters=3, batch_size=batch_size,\n",
    "                      n_init=10, max_no_improvement=10, verbose=0)\n",
    "t0 = time.time()\n",
    "mbk.fit(X)\n",
    "t_mini_batch = time.time() - t0\n",
    "mbk_means_labels = mbk.labels_\n",
    "mbk_means_cluster_centers = mbk.cluster_centers_\n",
    "mbk_means_labels_unique = np.unique(mbk_means_labels)\n",
    "\n",
    "print(\"--- %s seconds ---\" %t_mini_batch)"
   ]
  },
  {
   "cell_type": "markdown",
   "metadata": {},
   "source": [
    "### Plots "
   ]
  },
  {
   "cell_type": "code",
   "execution_count": 15,
   "metadata": {
    "collapsed": false,
    "scrolled": true
   },
   "outputs": [
    {
     "ename": "AttributeError",
     "evalue": "'list' object has no attribute 'inertia_'",
     "output_type": "error",
     "traceback": [
      "\u001b[0;31m---------------------------------------------------------------------------\u001b[0m",
      "\u001b[0;31mAttributeError\u001b[0m                            Traceback (most recent call last)",
      "\u001b[0;32m<ipython-input-15-b8f2f5ee0755>\u001b[0m in \u001b[0;36m<module>\u001b[0;34m()\u001b[0m\n\u001b[1;32m     25\u001b[0m \u001b[0max\u001b[0m\u001b[0;34m.\u001b[0m\u001b[0mset_yticks\u001b[0m\u001b[0;34m(\u001b[0m\u001b[0;34m(\u001b[0m\u001b[0;34m)\u001b[0m\u001b[0;34m)\u001b[0m\u001b[0;34m\u001b[0m\u001b[0m\n\u001b[1;32m     26\u001b[0m plt.text(-3.5, 1.8,  'train time: %.2fs\\ninertia: %f' % (\n\u001b[0;32m---> 27\u001b[0;31m     t_batch, k_means.inertia_))\n\u001b[0m\u001b[1;32m     28\u001b[0m \u001b[0;34m\u001b[0m\u001b[0m\n\u001b[1;32m     29\u001b[0m \u001b[0;31m# MiniBatchKMeans\u001b[0m\u001b[0;34m\u001b[0m\u001b[0;34m\u001b[0m\u001b[0m\n",
      "\u001b[0;31mAttributeError\u001b[0m: 'list' object has no attribute 'inertia_'"
     ]
    }
   ],
   "source": [
    "# Plot result\n",
    "\n",
    "fig = plt.figure(figsize=(8, 3))\n",
    "fig.subplots_adjust(left=0.02, right=0.98, bottom=0.05, top=0.9)\n",
    "colors = ['#4EACC5', '#FF9C34', '#4E9A06']\n",
    "\n",
    "# We want to have the same colors for the same cluster from the\n",
    "# MiniBatchKMeans and the KMeans algorithm. Let's pair the cluster centers per\n",
    "# closest one.\n",
    "\n",
    "order = pairwise_distances_argmin(k_means_cluster_centers,\n",
    "                                  mbk_means_cluster_centers)\n",
    "\n",
    "# KMeans\n",
    "ax = fig.add_subplot(1, 3, 1)\n",
    "for k, col in zip(range(n_clusters), colors):\n",
    "    my_members = k_means_labels == k\n",
    "    cluster_center = k_means_cluster_centers[k]\n",
    "    ax.plot(X[my_members, 0], X[my_members, 1], 'w',\n",
    "            markerfacecolor=col, marker='.')\n",
    "    ax.plot(cluster_center[0], cluster_center[1], 'o', markerfacecolor=col,\n",
    "            markeredgecolor='k', markersize=6)\n",
    "ax.set_title('KMeans')\n",
    "ax.set_xticks(())\n",
    "ax.set_yticks(())\n",
    "plt.text(-3.5, 1.8,  'train time: %.2fs\\ninertia: %f' % (\n",
    "    t_batch, k_means.inertia_))\n",
    "\n",
    "# MiniBatchKMeans\n",
    "ax = fig.add_subplot(1, 3, 2)\n",
    "for k, col in zip(range(n_clusters), colors):\n",
    "    my_members = mbk_means_labels == order[k]\n",
    "    cluster_center = mbk_means_cluster_centers[order[k]]\n",
    "    ax.plot(X[my_members, 0], X[my_members, 1], 'w',\n",
    "            markerfacecolor=col, marker='.')\n",
    "    ax.plot(cluster_center[0], cluster_center[1], 'o', markerfacecolor=col,\n",
    "            markeredgecolor='k', markersize=6)\n",
    "ax.set_title('MiniBatchKMeans')\n",
    "ax.set_xticks(())\n",
    "ax.set_yticks(())\n",
    "plt.text(-3.5, 1.8, 'train time: %.2fs\\ninertia: %f' %\n",
    "         (t_mini_batch, mbk.inertia_))\n",
    "\n",
    "# Initialise the different array to all False\n",
    "different = (mbk_means_labels == 4)\n",
    "ax = fig.add_subplot(1, 3, 3)\n",
    "\n",
    "for l in range(n_clusters):\n",
    "    different += ((k_means_labels == k) != (mbk_means_labels == order[k]))\n",
    "\n",
    "identic = np.logical_not(different)\n",
    "ax.plot(X[identic, 0], X[identic, 1], 'w',\n",
    "        markerfacecolor='#bbbbbb', marker='.')\n",
    "ax.plot(X[different, 0], X[different, 1], 'w',\n",
    "        markerfacecolor='m', marker='.')\n",
    "ax.set_title('Difference')\n",
    "ax.set_xticks(())\n",
    "ax.set_yticks(())\n",
    "\n",
    "plt.show()"
   ]
  },
  {
   "cell_type": "markdown",
   "metadata": {},
   "source": [
    "### Comparison with naive implementation Results "
   ]
  },
  {
   "cell_type": "code",
   "execution_count": 10,
   "metadata": {
    "collapsed": false
   },
   "outputs": [
    {
     "name": "stdout",
     "output_type": "stream",
     "text": [
      "CPU times: user 2 µs, sys: 2 µs, total: 4 µs\n",
      "Wall time: 5.96 µs\n",
      "--- 0.392138004303 seconds ---\n"
     ]
    },
    {
     "data": {
      "text/plain": [
       "[array([ 1.07705469, -1.06730994]),\n",
       " array([-1.07159013, -1.00648645]),\n",
       " array([ 0.96700708,  1.01837274])]"
      ]
     },
     "execution_count": 10,
     "metadata": {},
     "output_type": "execute_result"
    }
   ],
   "source": [
    "%time\n",
    "\n",
    "start_time=time.time()\n",
    "k_means,clusters,it,loss = Kmeans_imp(X,3)\n",
    "\n",
    "print(\"--- %s seconds ---\" % (time.time() - start_time))\n",
    "k_means"
   ]
  },
  {
   "cell_type": "code",
   "execution_count": 11,
   "metadata": {
    "collapsed": false
   },
   "outputs": [
    {
     "name": "stdout",
     "output_type": "stream",
     "text": [
      "[2 1 2 ..., 1 1 0]\n",
      "[[ 0.96786467  1.0173955 ]\n",
      " [-1.07262225 -1.00554224]\n",
      " [ 1.07510478 -1.06937206]]\n"
     ]
    }
   ],
   "source": [
    "print k_means_labels\n",
    "print k_means_cluster_centers \n",
    " "
   ]
  },
  {
   "cell_type": "code",
   "execution_count": 19,
   "metadata": {
    "collapsed": false
   },
   "outputs": [
    {
     "name": "stdout",
     "output_type": "stream",
     "text": [
      "0\n",
      "1\n",
      "2\n",
      "3\n",
      "4\n"
     ]
    }
   ],
   "source": [
    "n=[1000,5000,10000,50000,100000]\n",
    "\n",
    "np.random.seed(0)\n",
    "\n",
    "batch_size = 45\n",
    "centers = [[1, 1], [-1, -1], [1, -1]]\n",
    "n_clusters = len(centers)\n",
    "\n",
    "time_naive=np.zeros(5)\n",
    "time_sk=np.zeros(5)\n",
    "time_mini=np.zeros(5)\n",
    "\n",
    "for i in xrange(len(n)):\n",
    "    print i\n",
    "    X, labels_true = make_blobs(n_samples=n[i], centers=centers, cluster_std=0.7)\n",
    "    # Compute clustering with Means\n",
    "    k_means = KMeans(init='k-means++', n_clusters=3, n_init=10)\n",
    "    t0 = time.time()\n",
    "    k_means.fit(X)\n",
    "    t_batch = time.time() - t0\n",
    "    k_means_labels = k_means.labels_\n",
    "    k_means_cluster_centers = k_means.cluster_centers_\n",
    "    k_means_labels_unique = np.unique(k_means_labels)\n",
    "\n",
    "    time_sk[i]=t_batch\n",
    "    \n",
    "    #My implementation\n",
    "    start_time=time.time()\n",
    "    k_means,clusters,it,loss = Kmeans_imp(X,3)\n",
    "    t2=time.time()-start_time\n",
    "    \n",
    "    time_naive[i]=t2\n",
    "\n",
    "    "
   ]
  },
  {
   "cell_type": "code",
   "execution_count": 20,
   "metadata": {
    "collapsed": false
   },
   "outputs": [
    {
     "name": "stdout",
     "output_type": "stream",
     "text": [
      "[  0.17987514   0.77097416   1.96637392   9.61668801  30.26023293]\n",
      "[ 0.0226438   0.04811502  0.07172418  0.256217    0.49452591]\n"
     ]
    }
   ],
   "source": [
    "print time_naive\n",
    "print time_sk"
   ]
  },
  {
   "cell_type": "code",
   "execution_count": 70,
   "metadata": {
    "collapsed": false
   },
   "outputs": [
    {
     "name": "stdout",
     "output_type": "stream",
     "text": [
      "0\n",
      "1\n",
      "2\n",
      "3\n",
      "4\n",
      "5\n"
     ]
    }
   ],
   "source": [
    "n=[1000,5000,10000,50000,100000,500000]\n",
    "\n",
    "np.random.seed(0)\n",
    "\n",
    "batch_size = 45\n",
    "centers = [[1, 1], [-1, -1], [1, -1]]\n",
    "n_clusters = len(centers)\n",
    "\n",
    "time_naive=np.zeros(len(n))\n",
    "time_sk=np.zeros(len(n))\n",
    "time_mini=np.zeros(len(n))\n",
    "\n",
    "for i in xrange(len(n)):\n",
    "    print i\n",
    "    X, labels_true = make_blobs(n_samples=n[i], centers=centers, cluster_std=0.7)\n",
    "    # Compute clustering with KMeans\n",
    "    k_means = KMeans(init='k-means++', n_clusters=3, n_init=10)\n",
    "    t0 = time.time()\n",
    "    k_means.fit(X)\n",
    "    t_batch = time.time() - t0\n",
    "    k_means_labels = k_means.labels_\n",
    "    k_means_cluster_centers = k_means.cluster_centers_\n",
    "    k_means_labels_unique = np.unique(k_means_labels)\n",
    "\n",
    "    time_sk[i]=t_batch\n",
    "    \n",
    "    # Mini Batch K-Means\n",
    "    \n",
    "    mbk = MiniBatchKMeans(init='k-means++', n_clusters=3, batch_size=batch_size,\n",
    "                      n_init=10, max_no_improvement=10, verbose=0)\n",
    "    t0 = time.time()\n",
    "    mbk.fit(X)\n",
    "    t_mini_batch = time.time() - t0\n",
    "    \n",
    "    time_mini[i]=t_mini_batch\n",
    "    \n",
    "    # My implementation\n",
    "    start_time=time.time()\n",
    "    k_means,clusters,it,loss = Kmeans_imp(X,3)\n",
    "    t2=time.time()-start_time\n",
    "    \n",
    "    time_naive[i]=t2\n",
    "\n",
    "    "
   ]
  },
  {
   "cell_type": "code",
   "execution_count": 71,
   "metadata": {
    "collapsed": false
   },
   "outputs": [
    {
     "name": "stdout",
     "output_type": "stream",
     "text": [
      "[   0.30010581    0.92822003    1.677598     12.22940707   25.66289902\n",
      "  162.8107779 ]\n",
      "[ 0.01697302  0.05211401  0.08217478  0.40503597  0.6163702   4.02847195]\n",
      "[ 0.02330303  0.03041792  0.03270602  0.37699389  0.44534302  2.84418988]\n"
     ]
    }
   ],
   "source": [
    "print time_naive\n",
    "print time_sk\n",
    "print time_mini"
   ]
  },
  {
   "cell_type": "code",
   "execution_count": 44,
   "metadata": {
    "collapsed": false
   },
   "outputs": [
    {
     "data": {
      "text/plain": [
       "<matplotlib.text.Text at 0x10e459e50>"
      ]
     },
     "execution_count": 44,
     "metadata": {},
     "output_type": "execute_result"
    },
    {
     "data": {
      "image/png": "[encoded data removed]",
      "text/plain": [
       "<matplotlib.figure.Figure at 0x10ec2e650>"
      ]
     },
     "metadata": {},
     "output_type": "display_data"
    }
   ],
   "source": [
    "%matplotlib inline\n",
    "\n",
    "plt.figure(figsize=(8,6))\n",
    "plt.plot(n,time_naive,'-o',label=\"Naive Implementation\")\n",
    "plt.plot(n,time_sk, '-o',label=\"KMeans SkLearn\")\n",
    "plt.plot(n,time_mini, '-o',label=\"Mini Batch KMeans\")\n",
    "plt.legend(loc=\"upper left\")\n",
    "plt.xlabel(\"Dataset Size\")\n",
    "plt.ylabel(\"Seconds\")\n",
    "plt.title(\"Results for three clusters\")"
   ]
  },
  {
   "cell_type": "code",
   "execution_count": 74,
   "metadata": {
    "collapsed": false
   },
   "outputs": [
    {
     "data": {
      "text/plain": [
       "<matplotlib.text.Text at 0x111964b90>"
      ]
     },
     "execution_count": 74,
     "metadata": {},
     "output_type": "execute_result"
    },
    {
     "data": {
      "image/png": "[encoded data removed]",
      "text/plain": [
       "<matplotlib.figure.Figure at 0x10e2934d0>"
      ]
     },
     "metadata": {},
     "output_type": "display_data"
    }
   ],
   "source": [
    "from matplotlib.ticker import ScalarFormatter\n",
    "\n",
    "fig, ax = plt.subplots() \n",
    "\n",
    "ax.plot(n,time_naive,'-o',label=\"Naive Implementation\")\n",
    "ax.plot(n,time_sk, '-o',label=\"KMeans SkLearn\")\n",
    "ax.legend(loc=\"Upper left\")\n",
    "ax.set_xscale('log')\n",
    "\n",
    "ax.set_title(\"Results for three clusters\")\n",
    "ax.set_xlabel(\"Dataset Size\")\n",
    "ax.set_ylabel('Seconds')"
   ]
  },
  {
   "cell_type": "code",
   "execution_count": 75,
   "metadata": {
    "collapsed": false
   },
   "outputs": [
    {
     "data": {
      "text/plain": [
       "<matplotlib.text.Text at 0x10f734ed0>"
      ]
     },
     "execution_count": 75,
     "metadata": {},
     "output_type": "execute_result"
    },
    {
     "data": {
      "image/png": "[encoded data removed]",
      "text/plain": [
       "<matplotlib.figure.Figure at 0x10ebdc910>"
      ]
     },
     "metadata": {},
     "output_type": "display_data"
    }
   ],
   "source": [
    "from matplotlib.ticker import ScalarFormatter\n",
    "\n",
    "fig, ax = plt.subplots() \n",
    "\n",
    "ax.plot(n[0:3],time_naive[0:3],'-o',label=\"Naive Implementation\")\n",
    "ax.plot(n[0:3],time_sk[0:3], '-o',label=\"KMeans SkLearn\")\n",
    "ax.legend(loc=\"Upper left\")\n",
    "ax.set_xscale('log')\n",
    "\n",
    "ax.set_title(\"Results for three clusters\")\n",
    "ax.set_xlabel(\"Dataset Size\")\n",
    "ax.set_ylabel('Seconds')"
   ]
  },
  {
   "cell_type": "code",
   "execution_count": 47,
   "metadata": {
    "collapsed": false
   },
   "outputs": [
    {
     "data": {
      "text/plain": [
       "<matplotlib.text.Text at 0x1179d10d0>"
      ]
     },
     "execution_count": 47,
     "metadata": {},
     "output_type": "execute_result"
    },
    {
     "data": {
      "image/png": "[encoded data removed]",
      "text/plain": [
       "<matplotlib.figure.Figure at 0x10ecb4cd0>"
      ]
     },
     "metadata": {},
     "output_type": "display_data"
    }
   ],
   "source": [
    "%matplotlib inline\n",
    "\n",
    "plt.figure(figsize=(8,6))\n",
    "plt.plot(n,time_naive,'-o',label=\"Naive Implementation\")\n",
    "plt.plot(n,time_sk, '-o',label=\"KMeans SkLearn\")\n",
    "plt.legend(loc=\"upper left\")\n",
    "plt.xlabel(\"Dataset Size\")\n",
    "plt.ylabel(\"Seconds\")\n",
    "plt.title(\"Results for three clusters\")"
   ]
  },
  {
   "cell_type": "code",
   "execution_count": 45,
   "metadata": {
    "collapsed": false
   },
   "outputs": [
    {
     "data": {
      "text/plain": [
       "<matplotlib.text.Text at 0x10d662d50>"
      ]
     },
     "execution_count": 45,
     "metadata": {},
     "output_type": "execute_result"
    },
    {
     "data": {
      "image/png": "[encoded data removed]",
      "text/plain": [
       "<matplotlib.figure.Figure at 0x10c578750>"
      ]
     },
     "metadata": {},
     "output_type": "display_data"
    }
   ],
   "source": [
    "plt.figure(figsize=(8,6))\n",
    "plt.plot(n,time_sk,'o-', label=\"KMeans\")\n",
    "plt.plot(n,time_mini,'o-', label=\"Mini Batch KMeans\")\n",
    "plt.legend(loc=\"Upper left\")\n",
    "plt.xlabel(\"Dataset Size\")\n",
    "plt.ylabel(\"Seconds\")\n",
    "plt.title(\"Results for three clusters\")"
   ]
  },
  {
   "cell_type": "code",
   "execution_count": 65,
   "metadata": {
    "collapsed": false
   },
   "outputs": [
    {
     "name": "stdout",
     "output_type": "stream",
     "text": [
      "0\n",
      "1\n",
      "2\n",
      "3\n",
      "4\n",
      "5\n",
      "6\n",
      "7\n"
     ]
    }
   ],
   "source": [
    "n=[1000,5000,10000,50000,100000,200000,500000,1000000]\n",
    "\n",
    "np.random.seed(0)\n",
    "\n",
    "batch_size = 45\n",
    "centers = [[1, 1], [-1, -1], [1, -1]]\n",
    "n_clusters = len(centers)\n",
    "\n",
    "time_naive=np.zeros(len(n))\n",
    "time_sk=np.zeros(len(n))\n",
    "time_mini=np.zeros(len(n))\n",
    "\n",
    "for i in xrange(len(n)):\n",
    "    print i\n",
    "    X, labels_true = make_blobs(n_samples=n[i], centers=centers, cluster_std=0.7)\n",
    "    # Compute clustering with KMeans\n",
    "    k_means = KMeans(init='k-means++', n_clusters=5, n_init=10)\n",
    "    t0 = time.time()\n",
    "    k_means.fit(X)\n",
    "    t_batch = time.time() - t0\n",
    "    k_means_labels = k_means.labels_\n",
    "    k_means_cluster_centers = k_means.cluster_centers_\n",
    "    k_means_labels_unique = np.unique(k_means_labels)\n",
    "\n",
    "    time_sk[i]=t_batch\n",
    "    \n",
    "    # Mini Batch K-Means\n",
    "    \n",
    "    mbk = MiniBatchKMeans(init='k-means++', n_clusters=5, batch_size=batch_size,\n",
    "                      n_init=10, max_no_improvement=10, verbose=0)\n",
    "    t0 = time.time()\n",
    "    mbk.fit(X)\n",
    "    t_mini_batch = time.time() - t0\n",
    "    \n",
    "    time_mini[i]=t_mini_batch\n",
    "    \n"
   ]
  },
  {
   "cell_type": "code",
   "execution_count": 41,
   "metadata": {
    "collapsed": false
   },
   "outputs": [
    {
     "data": {
      "text/plain": [
       "<matplotlib.text.Text at 0x10df73cd0>"
      ]
     },
     "execution_count": 41,
     "metadata": {},
     "output_type": "execute_result"
    },
    {
     "data": {
      "image/png": "[encoded data removed]",
      "text/plain": [
       "<matplotlib.figure.Figure at 0x117e22950>"
      ]
     },
     "metadata": {},
     "output_type": "display_data"
    }
   ],
   "source": [
    "plt.figure(figsize=(8,6))\n",
    "plt.plot(np.log(n),time_sk,'o-', label=\"Kmeans\")\n",
    "plt.plot(np.log(n),time_mini,'o-', label=\"Mini Batch Kmeans\")\n",
    "plt.legend(loc=\"Upper left\")\n",
    "plt.xlabel(\"Dataset Size in Log Scale\")\n",
    "plt.ylabel(\"Seconds\")\n",
    "plt.title(\"Results for five clusters\")"
   ]
  },
  {
   "cell_type": "code",
   "execution_count": 68,
   "metadata": {
    "collapsed": false
   },
   "outputs": [
    {
     "data": {
      "text/plain": [
       "<matplotlib.text.Text at 0x106a39690>"
      ]
     },
     "execution_count": 68,
     "metadata": {},
     "output_type": "execute_result"
    },
    {
     "data": {
      "image/png": "[encoded data removed]",
      "text/plain": [
       "<matplotlib.figure.Figure at 0x119202950>"
      ]
     },
     "metadata": {},
     "output_type": "display_data"
    }
   ],
   "source": [
    "from matplotlib.ticker import ScalarFormatter\n",
    "\n",
    "fig, ax = plt.subplots() \n",
    "\n",
    "ax.plot(n,time_sk,'o-', label=\"KMeans\")\n",
    "ax.plot(n,time_mini,'o-', label=\"Mini Batch Kmeans\")\n",
    "ax.legend(loc=\"Upper left\")\n",
    "ax.set_xscale('log')\n",
    "\n",
    "ax.set_title(\"Results for five clusters\")\n",
    "ax.set_xlabel(\"Dataset Size\")\n",
    "ax.set_ylabel('Seconds')"
   ]
  },
  {
   "cell_type": "code",
   "execution_count": null,
   "metadata": {
    "collapsed": true
   },
   "outputs": [],
   "source": []
  }
 ],
 "metadata": {
  "kernelspec": {
   "display_name": "Python 2",
   "language": "python",
   "name": "python2"
  },
  "language_info": {
   "codemirror_mode": {
    "name": "ipython",
    "version": 2
   },
   "file_extension": ".py",
   "mimetype": "text/x-python",
   "name": "python",
   "nbconvert_exporter": "python",
   "pygments_lexer": "ipython2",
   "version": "2.7.11"
  }
 },
 "nbformat": 4,
 "nbformat_minor": 0
}
